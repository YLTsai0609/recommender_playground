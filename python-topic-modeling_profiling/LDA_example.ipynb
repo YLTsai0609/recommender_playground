{
 "cells": [
  {
   "cell_type": "markdown",
   "metadata": {
    "toc": true
   },
   "source": [
    "<h1>Table of Contents<span class=\"tocSkip\"></span></h1>\n",
    "<div class=\"toc\"><ul class=\"toc-item\"><li><span><a href=\"#Example-of-GibbsLDA-and-vbLDA\" data-toc-modified-id=\"Example-of-GibbsLDA-and-vbLDA-1\"><span class=\"toc-item-num\">1&nbsp;&nbsp;</span>Example of GibbsLDA and vbLDA</a></span><ul class=\"toc-item\"><li><span><a href=\"#Loading-Reuter-corpus-from-NLTK\" data-toc-modified-id=\"Loading-Reuter-corpus-from-NLTK-1.1\"><span class=\"toc-item-num\">1.1&nbsp;&nbsp;</span>Loading Reuter corpus from NLTK</a></span></li><li><span><a href=\"#Inferencen-through-the-Gibbs-sampling\" data-toc-modified-id=\"Inferencen-through-the-Gibbs-sampling-1.2\"><span class=\"toc-item-num\">1.2&nbsp;&nbsp;</span>Inferencen through the Gibbs sampling</a></span><ul class=\"toc-item\"><li><span><a href=\"#Print-top-10-probability-words-for-each-topic\" data-toc-modified-id=\"Print-top-10-probability-words-for-each-topic-1.2.1\"><span class=\"toc-item-num\">1.2.1&nbsp;&nbsp;</span>Print top 10 probability words for each topic</a></span></li></ul></li><li><span><a href=\"#Inferencen-through-the-Variational-Bayes\" data-toc-modified-id=\"Inferencen-through-the-Variational-Bayes-1.3\"><span class=\"toc-item-num\">1.3&nbsp;&nbsp;</span>Inferencen through the Variational Bayes</a></span><ul class=\"toc-item\"><li><span><a href=\"#Print-top-10-probability-words-for-each-topic\" data-toc-modified-id=\"Print-top-10-probability-words-for-each-topic-1.3.1\"><span class=\"toc-item-num\">1.3.1&nbsp;&nbsp;</span>Print top 10 probability words for each topic</a></span></li></ul></li></ul></li></ul></div>"
   ]
  },
  {
   "cell_type": "markdown",
   "metadata": {},
   "source": [
    "# Example of GibbsLDA and vbLDA"
   ]
  },
  {
   "cell_type": "markdown",
   "metadata": {},
   "source": [
    "This example requires to install three nltk corpora:nltk.corpus.reuters, nltk.corpus.words, nltk.corpus.stopwords.\n",
    "\n",
    "You can download the corpora via `nltk.download()`"
   ]
  },
  {
   "cell_type": "code",
   "execution_count": 1,
   "metadata": {
    "ExecuteTime": {
     "end_time": "2021-07-13T16:11:16.724767Z",
     "start_time": "2021-07-13T16:11:16.721024Z"
    }
   },
   "outputs": [],
   "source": [
    "import os\n",
    "import sys\n",
    "PACKAGE = os.path.abspath('../python-topic-model')\n",
    "# print(PACKAGE)\n",
    "sys.path.append(PACKAGE)"
   ]
  },
  {
   "cell_type": "code",
   "execution_count": 2,
   "metadata": {
    "ExecuteTime": {
     "end_time": "2021-07-13T16:11:17.611577Z",
     "start_time": "2021-07-13T16:11:16.729214Z"
    }
   },
   "outputs": [],
   "source": [
    "import logging\n",
    "\n",
    "import numpy as np\n",
    "from ptm import GibbsLDA\n",
    "from ptm import vbLDA\n",
    "from ptm.nltk_corpus import get_reuters_ids_cnt\n",
    "from ptm.utils import convert_cnt_to_list, get_top_words"
   ]
  },
  {
   "cell_type": "markdown",
   "metadata": {},
   "source": [
    "## Loading Reuter corpus from NLTK"
   ]
  },
  {
   "cell_type": "markdown",
   "metadata": {},
   "source": [
    "Load reuter corpus including 1000 documents with maximum vocabulary size of 10000 from NLTK corpus"
   ]
  },
  {
   "cell_type": "code",
   "execution_count": 3,
   "metadata": {
    "ExecuteTime": {
     "end_time": "2021-07-13T16:11:18.015254Z",
     "start_time": "2021-07-13T16:11:17.613713Z"
    }
   },
   "outputs": [
    {
     "name": "stderr",
     "output_type": "stream",
     "text": [
      "[nltk_data] Downloading package reuters to /Users/YuLong/nltk_data...\n",
      "[nltk_data]   Package reuters is already up-to-date!\n",
      "[nltk_data] Downloading package words to /Users/YuLong/nltk_data...\n",
      "[nltk_data]   Package words is already up-to-date!\n",
      "[nltk_data] Downloading package stopwords to\n",
      "[nltk_data]     /Users/YuLong/nltk_data...\n",
      "[nltk_data]   Package stopwords is already up-to-date!\n"
     ]
    }
   ],
   "source": [
    "# Download data by nltk\n",
    "import nltk\n",
    "for resource in ['reuters','words','stopwords']:\n",
    "    nltk.download(resource)"
   ]
  },
  {
   "cell_type": "code",
   "execution_count": 4,
   "metadata": {
    "ExecuteTime": {
     "end_time": "2021-07-13T16:11:18.956430Z",
     "start_time": "2021-07-13T16:11:18.016958Z"
    }
   },
   "outputs": [
    {
     "name": "stdout",
     "output_type": "stream",
     "text": [
      "Vocabulary size:4629\n"
     ]
    }
   ],
   "source": [
    "n_doc = 1000\n",
    "voca, doc_ids, doc_cnt = get_reuters_ids_cnt(num_doc=n_doc, max_voca=10000)\n",
    "docs = convert_cnt_to_list(doc_ids, doc_cnt)\n",
    "n_voca = len(voca)\n",
    "print('Vocabulary size:%d' % n_voca)"
   ]
  },
  {
   "cell_type": "code",
   "execution_count": 25,
   "metadata": {
    "ExecuteTime": {
     "end_time": "2021-07-13T16:20:53.285133Z",
     "start_time": "2021-07-13T16:20:53.279981Z"
    }
   },
   "outputs": [
    {
     "data": {
      "text/plain": [
       "(array(['would', 'nil', 'last', ..., 'receivables', 'recoverable', 'elect'],\n",
       "       dtype='<U16'),\n",
       " 1000)"
      ]
     },
     "execution_count": 25,
     "metadata": {},
     "output_type": "execute_result"
    }
   ],
   "source": [
    "# Vo\n",
    "# vocabulary set :  4629\n",
    "# n_doc : 1000\n",
    "voca, n_doc"
   ]
  },
  {
   "cell_type": "markdown",
   "metadata": {},
   "source": [
    "## Inferencen through the Gibbs sampling"
   ]
  },
  {
   "cell_type": "code",
   "execution_count": 5,
   "metadata": {
    "ExecuteTime": {
     "end_time": "2021-07-13T16:12:16.050833Z",
     "start_time": "2021-07-13T16:11:18.957853Z"
    },
    "scrolled": true
   },
   "outputs": [
    {
     "name": "stderr",
     "output_type": "stream",
     "text": [
      "2021-07-14 00:11:19 INFO:GibbsLDA:[ITER] 0,\telapsed time:0.54,\tlog_likelihood:-447583.70\n",
      "2021-07-14 00:11:20 INFO:GibbsLDA:[ITER] 1,\telapsed time:0.54,\tlog_likelihood:-421115.19\n",
      "2021-07-14 00:11:20 INFO:GibbsLDA:[ITER] 2,\telapsed time:0.54,\tlog_likelihood:-404051.47\n",
      "2021-07-14 00:11:21 INFO:GibbsLDA:[ITER] 3,\telapsed time:0.56,\tlog_likelihood:-392140.18\n",
      "2021-07-14 00:11:21 INFO:GibbsLDA:[ITER] 4,\telapsed time:0.58,\tlog_likelihood:-383707.46\n",
      "2021-07-14 00:11:22 INFO:GibbsLDA:[ITER] 5,\telapsed time:0.54,\tlog_likelihood:-377761.32\n",
      "2021-07-14 00:11:22 INFO:GibbsLDA:[ITER] 6,\telapsed time:0.54,\tlog_likelihood:-372990.73\n",
      "2021-07-14 00:11:23 INFO:GibbsLDA:[ITER] 7,\telapsed time:0.54,\tlog_likelihood:-369235.16\n",
      "2021-07-14 00:11:24 INFO:GibbsLDA:[ITER] 8,\telapsed time:0.54,\tlog_likelihood:-366877.99\n",
      "2021-07-14 00:11:24 INFO:GibbsLDA:[ITER] 9,\telapsed time:0.54,\tlog_likelihood:-363952.43\n",
      "2021-07-14 00:11:25 INFO:GibbsLDA:[ITER] 10,\telapsed time:0.54,\tlog_likelihood:-362131.33\n",
      "2021-07-14 00:11:25 INFO:GibbsLDA:[ITER] 11,\telapsed time:0.54,\tlog_likelihood:-360495.00\n",
      "2021-07-14 00:11:26 INFO:GibbsLDA:[ITER] 12,\telapsed time:0.54,\tlog_likelihood:-359271.97\n",
      "2021-07-14 00:11:26 INFO:GibbsLDA:[ITER] 13,\telapsed time:0.54,\tlog_likelihood:-358288.65\n",
      "2021-07-14 00:11:27 INFO:GibbsLDA:[ITER] 14,\telapsed time:0.55,\tlog_likelihood:-357001.89\n",
      "2021-07-14 00:11:27 INFO:GibbsLDA:[ITER] 15,\telapsed time:0.54,\tlog_likelihood:-356279.95\n",
      "2021-07-14 00:11:28 INFO:GibbsLDA:[ITER] 16,\telapsed time:0.54,\tlog_likelihood:-355275.47\n",
      "2021-07-14 00:11:29 INFO:GibbsLDA:[ITER] 17,\telapsed time:0.54,\tlog_likelihood:-354679.33\n",
      "2021-07-14 00:11:29 INFO:GibbsLDA:[ITER] 18,\telapsed time:0.54,\tlog_likelihood:-354223.54\n",
      "2021-07-14 00:11:30 INFO:GibbsLDA:[ITER] 19,\telapsed time:0.54,\tlog_likelihood:-353631.09\n",
      "2021-07-14 00:11:30 INFO:GibbsLDA:[ITER] 20,\telapsed time:0.54,\tlog_likelihood:-353429.12\n",
      "2021-07-14 00:11:31 INFO:GibbsLDA:[ITER] 21,\telapsed time:0.54,\tlog_likelihood:-352830.02\n",
      "2021-07-14 00:11:31 INFO:GibbsLDA:[ITER] 22,\telapsed time:0.54,\tlog_likelihood:-352539.75\n",
      "2021-07-14 00:11:32 INFO:GibbsLDA:[ITER] 23,\telapsed time:0.54,\tlog_likelihood:-352040.28\n",
      "2021-07-14 00:11:32 INFO:GibbsLDA:[ITER] 24,\telapsed time:0.54,\tlog_likelihood:-351785.04\n",
      "2021-07-14 00:11:33 INFO:GibbsLDA:[ITER] 25,\telapsed time:0.54,\tlog_likelihood:-350926.89\n",
      "2021-07-14 00:11:34 INFO:GibbsLDA:[ITER] 26,\telapsed time:0.55,\tlog_likelihood:-350690.09\n",
      "2021-07-14 00:11:34 INFO:GibbsLDA:[ITER] 27,\telapsed time:0.54,\tlog_likelihood:-350843.52\n",
      "2021-07-14 00:11:35 INFO:GibbsLDA:[ITER] 28,\telapsed time:0.54,\tlog_likelihood:-350693.24\n",
      "2021-07-14 00:11:35 INFO:GibbsLDA:[ITER] 29,\telapsed time:0.54,\tlog_likelihood:-350300.89\n",
      "2021-07-14 00:11:36 INFO:GibbsLDA:[ITER] 30,\telapsed time:0.54,\tlog_likelihood:-349581.65\n",
      "2021-07-14 00:11:36 INFO:GibbsLDA:[ITER] 31,\telapsed time:0.54,\tlog_likelihood:-349483.62\n",
      "2021-07-14 00:11:37 INFO:GibbsLDA:[ITER] 32,\telapsed time:0.55,\tlog_likelihood:-349270.09\n",
      "2021-07-14 00:11:37 INFO:GibbsLDA:[ITER] 33,\telapsed time:0.53,\tlog_likelihood:-348881.88\n",
      "2021-07-14 00:11:38 INFO:GibbsLDA:[ITER] 34,\telapsed time:0.54,\tlog_likelihood:-348727.16\n",
      "2021-07-14 00:11:38 INFO:GibbsLDA:[ITER] 35,\telapsed time:0.54,\tlog_likelihood:-348561.56\n",
      "2021-07-14 00:11:39 INFO:GibbsLDA:[ITER] 36,\telapsed time:0.54,\tlog_likelihood:-348323.14\n",
      "2021-07-14 00:11:40 INFO:GibbsLDA:[ITER] 37,\telapsed time:0.57,\tlog_likelihood:-348099.71\n",
      "2021-07-14 00:11:40 INFO:GibbsLDA:[ITER] 38,\telapsed time:0.64,\tlog_likelihood:-348076.02\n",
      "2021-07-14 00:11:41 INFO:GibbsLDA:[ITER] 39,\telapsed time:0.56,\tlog_likelihood:-348230.55\n",
      "2021-07-14 00:11:41 INFO:GibbsLDA:[ITER] 40,\telapsed time:0.56,\tlog_likelihood:-347785.52\n",
      "2021-07-14 00:11:42 INFO:GibbsLDA:[ITER] 41,\telapsed time:0.56,\tlog_likelihood:-347464.90\n",
      "2021-07-14 00:11:43 INFO:GibbsLDA:[ITER] 42,\telapsed time:0.59,\tlog_likelihood:-347079.98\n",
      "2021-07-14 00:11:43 INFO:GibbsLDA:[ITER] 43,\telapsed time:0.56,\tlog_likelihood:-346805.38\n",
      "2021-07-14 00:11:44 INFO:GibbsLDA:[ITER] 44,\telapsed time:0.55,\tlog_likelihood:-346647.94\n",
      "2021-07-14 00:11:44 INFO:GibbsLDA:[ITER] 45,\telapsed time:0.57,\tlog_likelihood:-346327.84\n",
      "2021-07-14 00:11:45 INFO:GibbsLDA:[ITER] 46,\telapsed time:0.55,\tlog_likelihood:-346572.03\n",
      "2021-07-14 00:11:45 INFO:GibbsLDA:[ITER] 47,\telapsed time:0.57,\tlog_likelihood:-346518.13\n",
      "2021-07-14 00:11:46 INFO:GibbsLDA:[ITER] 48,\telapsed time:0.56,\tlog_likelihood:-346372.77\n",
      "2021-07-14 00:11:47 INFO:GibbsLDA:[ITER] 49,\telapsed time:0.56,\tlog_likelihood:-346311.09\n",
      "2021-07-14 00:11:47 INFO:GibbsLDA:[ITER] 50,\telapsed time:0.55,\tlog_likelihood:-346129.30\n",
      "2021-07-14 00:11:48 INFO:GibbsLDA:[ITER] 51,\telapsed time:0.55,\tlog_likelihood:-345860.71\n",
      "2021-07-14 00:11:48 INFO:GibbsLDA:[ITER] 52,\telapsed time:0.57,\tlog_likelihood:-345834.42\n",
      "2021-07-14 00:11:49 INFO:GibbsLDA:[ITER] 53,\telapsed time:0.55,\tlog_likelihood:-345646.76\n",
      "2021-07-14 00:11:49 INFO:GibbsLDA:[ITER] 54,\telapsed time:0.56,\tlog_likelihood:-345670.59\n",
      "2021-07-14 00:11:50 INFO:GibbsLDA:[ITER] 55,\telapsed time:0.57,\tlog_likelihood:-345617.81\n",
      "2021-07-14 00:11:51 INFO:GibbsLDA:[ITER] 56,\telapsed time:0.55,\tlog_likelihood:-345317.96\n",
      "2021-07-14 00:11:51 INFO:GibbsLDA:[ITER] 57,\telapsed time:0.55,\tlog_likelihood:-345219.45\n",
      "2021-07-14 00:11:52 INFO:GibbsLDA:[ITER] 58,\telapsed time:0.56,\tlog_likelihood:-345208.01\n",
      "2021-07-14 00:11:52 INFO:GibbsLDA:[ITER] 59,\telapsed time:0.54,\tlog_likelihood:-345014.68\n",
      "2021-07-14 00:11:53 INFO:GibbsLDA:[ITER] 60,\telapsed time:0.54,\tlog_likelihood:-344916.29\n",
      "2021-07-14 00:11:53 INFO:GibbsLDA:[ITER] 61,\telapsed time:0.54,\tlog_likelihood:-344901.62\n",
      "2021-07-14 00:11:54 INFO:GibbsLDA:[ITER] 62,\telapsed time:0.54,\tlog_likelihood:-345061.57\n",
      "2021-07-14 00:11:54 INFO:GibbsLDA:[ITER] 63,\telapsed time:0.54,\tlog_likelihood:-345012.53\n",
      "2021-07-14 00:11:55 INFO:GibbsLDA:[ITER] 64,\telapsed time:0.54,\tlog_likelihood:-344528.98\n",
      "2021-07-14 00:11:56 INFO:GibbsLDA:[ITER] 65,\telapsed time:0.54,\tlog_likelihood:-344865.49\n",
      "2021-07-14 00:11:56 INFO:GibbsLDA:[ITER] 66,\telapsed time:0.56,\tlog_likelihood:-344594.96\n",
      "2021-07-14 00:11:57 INFO:GibbsLDA:[ITER] 67,\telapsed time:0.55,\tlog_likelihood:-344558.15\n",
      "2021-07-14 00:11:57 INFO:GibbsLDA:[ITER] 68,\telapsed time:0.55,\tlog_likelihood:-344637.94\n",
      "2021-07-14 00:11:58 INFO:GibbsLDA:[ITER] 69,\telapsed time:0.58,\tlog_likelihood:-344530.65\n",
      "2021-07-14 00:11:58 INFO:GibbsLDA:[ITER] 70,\telapsed time:0.59,\tlog_likelihood:-344470.74\n",
      "2021-07-14 00:11:59 INFO:GibbsLDA:[ITER] 71,\telapsed time:0.56,\tlog_likelihood:-344312.54\n",
      "2021-07-14 00:12:00 INFO:GibbsLDA:[ITER] 72,\telapsed time:0.56,\tlog_likelihood:-344053.60\n",
      "2021-07-14 00:12:00 INFO:GibbsLDA:[ITER] 73,\telapsed time:0.58,\tlog_likelihood:-343914.97\n",
      "2021-07-14 00:12:01 INFO:GibbsLDA:[ITER] 74,\telapsed time:0.87,\tlog_likelihood:-344092.01\n",
      "2021-07-14 00:12:02 INFO:GibbsLDA:[ITER] 75,\telapsed time:0.59,\tlog_likelihood:-344027.89\n",
      "2021-07-14 00:12:02 INFO:GibbsLDA:[ITER] 76,\telapsed time:0.59,\tlog_likelihood:-344197.65\n",
      "2021-07-14 00:12:03 INFO:GibbsLDA:[ITER] 77,\telapsed time:0.63,\tlog_likelihood:-344069.60\n",
      "2021-07-14 00:12:04 INFO:GibbsLDA:[ITER] 78,\telapsed time:0.55,\tlog_likelihood:-343696.12\n",
      "2021-07-14 00:12:04 INFO:GibbsLDA:[ITER] 79,\telapsed time:0.55,\tlog_likelihood:-343740.66\n",
      "2021-07-14 00:12:05 INFO:GibbsLDA:[ITER] 80,\telapsed time:0.54,\tlog_likelihood:-343762.72\n",
      "2021-07-14 00:12:05 INFO:GibbsLDA:[ITER] 81,\telapsed time:0.56,\tlog_likelihood:-343292.29\n",
      "2021-07-14 00:12:06 INFO:GibbsLDA:[ITER] 82,\telapsed time:0.70,\tlog_likelihood:-343450.22\n",
      "2021-07-14 00:12:07 INFO:GibbsLDA:[ITER] 83,\telapsed time:0.58,\tlog_likelihood:-343520.75\n",
      "2021-07-14 00:12:07 INFO:GibbsLDA:[ITER] 84,\telapsed time:0.53,\tlog_likelihood:-343650.08\n",
      "2021-07-14 00:12:08 INFO:GibbsLDA:[ITER] 85,\telapsed time:0.54,\tlog_likelihood:-343604.79\n",
      "2021-07-14 00:12:08 INFO:GibbsLDA:[ITER] 86,\telapsed time:0.54,\tlog_likelihood:-343397.33\n",
      "2021-07-14 00:12:09 INFO:GibbsLDA:[ITER] 87,\telapsed time:0.53,\tlog_likelihood:-343465.86\n",
      "2021-07-14 00:12:10 INFO:GibbsLDA:[ITER] 88,\telapsed time:0.54,\tlog_likelihood:-343453.54\n",
      "2021-07-14 00:12:10 INFO:GibbsLDA:[ITER] 89,\telapsed time:0.54,\tlog_likelihood:-343321.17\n",
      "2021-07-14 00:12:11 INFO:GibbsLDA:[ITER] 90,\telapsed time:0.54,\tlog_likelihood:-343537.40\n",
      "2021-07-14 00:12:11 INFO:GibbsLDA:[ITER] 91,\telapsed time:0.54,\tlog_likelihood:-343306.61\n"
     ]
    },
    {
     "name": "stderr",
     "output_type": "stream",
     "text": [
      "2021-07-14 00:12:12 INFO:GibbsLDA:[ITER] 92,\telapsed time:0.54,\tlog_likelihood:-343175.38\n",
      "2021-07-14 00:12:12 INFO:GibbsLDA:[ITER] 93,\telapsed time:0.54,\tlog_likelihood:-343129.88\n",
      "2021-07-14 00:12:13 INFO:GibbsLDA:[ITER] 94,\telapsed time:0.55,\tlog_likelihood:-343006.38\n",
      "2021-07-14 00:12:13 INFO:GibbsLDA:[ITER] 95,\telapsed time:0.54,\tlog_likelihood:-343191.66\n",
      "2021-07-14 00:12:14 INFO:GibbsLDA:[ITER] 96,\telapsed time:0.54,\tlog_likelihood:-343006.92\n",
      "2021-07-14 00:12:14 INFO:GibbsLDA:[ITER] 97,\telapsed time:0.54,\tlog_likelihood:-342921.05\n",
      "2021-07-14 00:12:15 INFO:GibbsLDA:[ITER] 98,\telapsed time:0.55,\tlog_likelihood:-342788.71\n",
      "2021-07-14 00:12:16 INFO:GibbsLDA:[ITER] 99,\telapsed time:0.54,\tlog_likelihood:-342968.25\n"
     ]
    }
   ],
   "source": [
    "max_iter=100\n",
    "n_topic=10\n",
    "\n",
    "logger = logging.getLogger('GibbsLDA')\n",
    "logger.propagate = False\n",
    "\n",
    "model = GibbsLDA(n_doc, len(voca), n_topic)\n",
    "model.fit(docs, max_iter=max_iter)"
   ]
  },
  {
   "cell_type": "markdown",
   "metadata": {},
   "source": [
    "### Print top 10 probability words for each topic"
   ]
  },
  {
   "cell_type": "code",
   "execution_count": 6,
   "metadata": {
    "ExecuteTime": {
     "end_time": "2021-07-13T16:12:16.057788Z",
     "start_time": "2021-07-13T16:12:16.052409Z"
    }
   },
   "outputs": [
    {
     "name": "stdout",
     "output_type": "stream",
     "text": [
      "Topic 0 :  corp,gas,unit,also,acquisition,oil,group,sale,purchase,gold,statement,subsidiary,acquired,new,international\n",
      "Topic 1 :  loss,quarter,first,profit,corp,share,note,earnings,tax,income,gain,bank,ago,six,march\n",
      "Topic 2 :  japan,trade,dollar,yen,deficit,japanese,west,currency,economic,meeting,market,surplus,paris,around,economy\n",
      "Topic 3 :  would,also,oil,government,growth,debt,added,exchange,long,five,time,trading,economic,term,demand\n",
      "Topic 4 :  week,last,february,rise,march,rose,fell,foreign,lower,january,recent,increase,coffee,trade,new\n",
      "Topic 5 :  would,business,new,industry,chairman,record,management,market,told,american,agreement,last,production,plant,union\n",
      "Topic 6 :  bank,rate,market,money,fed,days,policy,federal,two,monetary,today,interest,reserve,cut,day\n",
      "Topic 7 :  stock,share,april,offer,dividend,may,one,corp,dome,record,common,pay,prior,div,split\n",
      "Topic 8 :  nil,stocks,wheat,last,production,month,department,grain,crop,total,agriculture,end,corn,start,use\n",
      "Topic 9 :  price,sugar,per,chemical,april,tender,last,export,may,yesterday,commission,today,around,spokesman,one\n"
     ]
    }
   ],
   "source": [
    "# Might be exlainanle in the topics, might not\n",
    "# Topic 1 likes to be sotck news\n",
    "# Topic 0 likes to be oil and gas\n",
    "# Topic 6 likes to be Japan, economic, ...\n",
    "\n",
    "for ti in range(n_topic):\n",
    "    top_words = get_top_words(model.TW, voca, ti, n_words=15)\n",
    "    print('Topic', ti ,': ', ','.join(top_words))"
   ]
  },
  {
   "cell_type": "markdown",
   "metadata": {},
   "source": [
    "## Inferencen through the Variational Bayes"
   ]
  },
  {
   "cell_type": "code",
   "execution_count": 7,
   "metadata": {
    "ExecuteTime": {
     "end_time": "2021-07-13T16:12:57.858124Z",
     "start_time": "2021-07-13T16:12:16.066514Z"
    }
   },
   "outputs": [
    {
     "name": "stderr",
     "output_type": "stream",
     "text": [
      "2021-07-14 00:12:16 INFO:vbLDA:[ITER] 0,\telapsed time:0.53,\tELBO:-478165.30\n",
      "2021-07-14 00:12:17 INFO:vbLDA:[ITER] 1,\telapsed time:0.51,\tELBO:-423168.55\n",
      "2021-07-14 00:12:17 INFO:vbLDA:[ITER] 2,\telapsed time:0.50,\tELBO:-379311.76\n",
      "2021-07-14 00:12:18 INFO:vbLDA:[ITER] 3,\telapsed time:0.47,\tELBO:-363504.22\n",
      "2021-07-14 00:12:18 INFO:vbLDA:[ITER] 4,\telapsed time:0.46,\tELBO:-357206.33\n",
      "2021-07-14 00:12:19 INFO:vbLDA:[ITER] 5,\telapsed time:0.45,\tELBO:-354247.30\n",
      "2021-07-14 00:12:19 INFO:vbLDA:[ITER] 6,\telapsed time:0.44,\tELBO:-352609.74\n",
      "2021-07-14 00:12:19 INFO:vbLDA:[ITER] 7,\telapsed time:0.44,\tELBO:-351564.89\n",
      "2021-07-14 00:12:20 INFO:vbLDA:[ITER] 8,\telapsed time:0.44,\tELBO:-350812.02\n",
      "2021-07-14 00:12:20 INFO:vbLDA:[ITER] 9,\telapsed time:0.44,\tELBO:-350295.12\n",
      "2021-07-14 00:12:21 INFO:vbLDA:[ITER] 10,\telapsed time:0.44,\tELBO:-349965.13\n",
      "2021-07-14 00:12:21 INFO:vbLDA:[ITER] 11,\telapsed time:0.43,\tELBO:-349698.35\n",
      "2021-07-14 00:12:22 INFO:vbLDA:[ITER] 12,\telapsed time:0.48,\tELBO:-349498.88\n",
      "2021-07-14 00:12:22 INFO:vbLDA:[ITER] 13,\telapsed time:0.51,\tELBO:-349362.60\n",
      "2021-07-14 00:12:23 INFO:vbLDA:[ITER] 14,\telapsed time:0.46,\tELBO:-349264.07\n",
      "2021-07-14 00:12:23 INFO:vbLDA:[ITER] 15,\telapsed time:0.43,\tELBO:-349186.11\n",
      "2021-07-14 00:12:23 INFO:vbLDA:[ITER] 16,\telapsed time:0.42,\tELBO:-349101.28\n",
      "2021-07-14 00:12:24 INFO:vbLDA:[ITER] 17,\telapsed time:0.42,\tELBO:-349023.95\n",
      "2021-07-14 00:12:24 INFO:vbLDA:[ITER] 18,\telapsed time:0.43,\tELBO:-348967.40\n",
      "2021-07-14 00:12:25 INFO:vbLDA:[ITER] 19,\telapsed time:0.47,\tELBO:-348923.93\n",
      "2021-07-14 00:12:25 INFO:vbLDA:[ITER] 20,\telapsed time:0.48,\tELBO:-348885.62\n",
      "2021-07-14 00:12:26 INFO:vbLDA:[ITER] 21,\telapsed time:0.42,\tELBO:-348846.40\n",
      "2021-07-14 00:12:26 INFO:vbLDA:[ITER] 22,\telapsed time:0.42,\tELBO:-348810.85\n",
      "2021-07-14 00:12:26 INFO:vbLDA:[ITER] 23,\telapsed time:0.41,\tELBO:-348788.75\n",
      "2021-07-14 00:12:27 INFO:vbLDA:[ITER] 24,\telapsed time:0.43,\tELBO:-348771.05\n",
      "2021-07-14 00:12:27 INFO:vbLDA:[ITER] 25,\telapsed time:0.42,\tELBO:-348754.17\n",
      "2021-07-14 00:12:28 INFO:vbLDA:[ITER] 26,\telapsed time:0.41,\tELBO:-348737.14\n",
      "2021-07-14 00:12:28 INFO:vbLDA:[ITER] 27,\telapsed time:0.43,\tELBO:-348724.39\n",
      "2021-07-14 00:12:29 INFO:vbLDA:[ITER] 28,\telapsed time:0.44,\tELBO:-348704.57\n",
      "2021-07-14 00:12:29 INFO:vbLDA:[ITER] 29,\telapsed time:0.41,\tELBO:-348688.42\n",
      "2021-07-14 00:12:29 INFO:vbLDA:[ITER] 30,\telapsed time:0.43,\tELBO:-348672.87\n",
      "2021-07-14 00:12:30 INFO:vbLDA:[ITER] 31,\telapsed time:0.41,\tELBO:-348662.88\n",
      "2021-07-14 00:12:30 INFO:vbLDA:[ITER] 32,\telapsed time:0.40,\tELBO:-348655.89\n",
      "2021-07-14 00:12:31 INFO:vbLDA:[ITER] 33,\telapsed time:0.41,\tELBO:-348645.47\n",
      "2021-07-14 00:12:31 INFO:vbLDA:[ITER] 34,\telapsed time:0.40,\tELBO:-348634.23\n",
      "2021-07-14 00:12:32 INFO:vbLDA:[ITER] 35,\telapsed time:0.40,\tELBO:-348628.68\n",
      "2021-07-14 00:12:32 INFO:vbLDA:[ITER] 36,\telapsed time:0.41,\tELBO:-348623.02\n",
      "2021-07-14 00:12:32 INFO:vbLDA:[ITER] 37,\telapsed time:0.42,\tELBO:-348615.99\n",
      "2021-07-14 00:12:33 INFO:vbLDA:[ITER] 38,\telapsed time:0.42,\tELBO:-348607.44\n",
      "2021-07-14 00:12:33 INFO:vbLDA:[ITER] 39,\telapsed time:0.45,\tELBO:-348596.99\n",
      "2021-07-14 00:12:34 INFO:vbLDA:[ITER] 40,\telapsed time:0.45,\tELBO:-348583.78\n",
      "2021-07-14 00:12:34 INFO:vbLDA:[ITER] 41,\telapsed time:0.41,\tELBO:-348571.15\n",
      "2021-07-14 00:12:34 INFO:vbLDA:[ITER] 42,\telapsed time:0.40,\tELBO:-348562.51\n",
      "2021-07-14 00:12:35 INFO:vbLDA:[ITER] 43,\telapsed time:0.41,\tELBO:-348557.21\n",
      "2021-07-14 00:12:35 INFO:vbLDA:[ITER] 44,\telapsed time:0.40,\tELBO:-348552.19\n",
      "2021-07-14 00:12:36 INFO:vbLDA:[ITER] 45,\telapsed time:0.40,\tELBO:-348549.22\n",
      "2021-07-14 00:12:36 INFO:vbLDA:[ITER] 46,\telapsed time:0.41,\tELBO:-348545.47\n",
      "2021-07-14 00:12:36 INFO:vbLDA:[ITER] 47,\telapsed time:0.40,\tELBO:-348538.86\n",
      "2021-07-14 00:12:37 INFO:vbLDA:[ITER] 48,\telapsed time:0.40,\tELBO:-348530.02\n",
      "2021-07-14 00:12:37 INFO:vbLDA:[ITER] 49,\telapsed time:0.40,\tELBO:-348525.18\n",
      "2021-07-14 00:12:38 INFO:vbLDA:[ITER] 50,\telapsed time:0.42,\tELBO:-348520.73\n",
      "2021-07-14 00:12:38 INFO:vbLDA:[ITER] 51,\telapsed time:0.41,\tELBO:-348520.06\n",
      "2021-07-14 00:12:39 INFO:vbLDA:[ITER] 52,\telapsed time:0.41,\tELBO:-348518.35\n",
      "2021-07-14 00:12:39 INFO:vbLDA:[ITER] 53,\telapsed time:0.40,\tELBO:-348515.73\n",
      "2021-07-14 00:12:39 INFO:vbLDA:[ITER] 54,\telapsed time:0.40,\tELBO:-348512.20\n",
      "2021-07-14 00:12:40 INFO:vbLDA:[ITER] 55,\telapsed time:0.42,\tELBO:-348505.24\n",
      "2021-07-14 00:12:40 INFO:vbLDA:[ITER] 56,\telapsed time:0.41,\tELBO:-348502.50\n",
      "2021-07-14 00:12:41 INFO:vbLDA:[ITER] 57,\telapsed time:0.40,\tELBO:-348498.66\n",
      "2021-07-14 00:12:41 INFO:vbLDA:[ITER] 58,\telapsed time:0.40,\tELBO:-348493.99\n",
      "2021-07-14 00:12:41 INFO:vbLDA:[ITER] 59,\telapsed time:0.40,\tELBO:-348491.66\n",
      "2021-07-14 00:12:42 INFO:vbLDA:[ITER] 60,\telapsed time:0.39,\tELBO:-348491.10\n",
      "2021-07-14 00:12:42 INFO:vbLDA:[ITER] 61,\telapsed time:0.39,\tELBO:-348489.64\n",
      "2021-07-14 00:12:43 INFO:vbLDA:[ITER] 62,\telapsed time:0.40,\tELBO:-348488.56\n",
      "2021-07-14 00:12:43 INFO:vbLDA:[ITER] 63,\telapsed time:0.40,\tELBO:-348488.40\n",
      "2021-07-14 00:12:43 INFO:vbLDA:[ITER] 64,\telapsed time:0.40,\tELBO:-348488.00\n",
      "2021-07-14 00:12:44 INFO:vbLDA:[ITER] 65,\telapsed time:0.41,\tELBO:-348486.63\n",
      "2021-07-14 00:12:44 INFO:vbLDA:[ITER] 66,\telapsed time:0.41,\tELBO:-348484.96\n",
      "2021-07-14 00:12:45 INFO:vbLDA:[ITER] 67,\telapsed time:0.45,\tELBO:-348483.48\n",
      "2021-07-14 00:12:45 INFO:vbLDA:[ITER] 68,\telapsed time:0.40,\tELBO:-348481.47\n",
      "2021-07-14 00:12:45 INFO:vbLDA:[ITER] 69,\telapsed time:0.40,\tELBO:-348479.41\n",
      "2021-07-14 00:12:46 INFO:vbLDA:[ITER] 70,\telapsed time:0.39,\tELBO:-348478.95\n",
      "2021-07-14 00:12:46 INFO:vbLDA:[ITER] 71,\telapsed time:0.41,\tELBO:-348477.72\n",
      "2021-07-14 00:12:47 INFO:vbLDA:[ITER] 72,\telapsed time:0.40,\tELBO:-348475.45\n",
      "2021-07-14 00:12:47 INFO:vbLDA:[ITER] 73,\telapsed time:0.39,\tELBO:-348474.75\n",
      "2021-07-14 00:12:47 INFO:vbLDA:[ITER] 74,\telapsed time:0.40,\tELBO:-348474.02\n",
      "2021-07-14 00:12:48 INFO:vbLDA:[ITER] 75,\telapsed time:0.40,\tELBO:-348472.10\n",
      "2021-07-14 00:12:48 INFO:vbLDA:[ITER] 76,\telapsed time:0.40,\tELBO:-348471.81\n",
      "2021-07-14 00:12:49 INFO:vbLDA:[ITER] 77,\telapsed time:0.39,\tELBO:-348471.78\n",
      "2021-07-14 00:12:49 INFO:vbLDA:[ITER] 78,\telapsed time:0.39,\tELBO:-348471.75\n",
      "2021-07-14 00:12:49 INFO:vbLDA:[ITER] 79,\telapsed time:0.39,\tELBO:-348471.69\n",
      "2021-07-14 00:12:50 INFO:vbLDA:[ITER] 80,\telapsed time:0.39,\tELBO:-348471.58\n",
      "2021-07-14 00:12:50 INFO:vbLDA:[ITER] 81,\telapsed time:0.40,\tELBO:-348471.32\n",
      "2021-07-14 00:12:51 INFO:vbLDA:[ITER] 82,\telapsed time:0.40,\tELBO:-348470.57\n",
      "2021-07-14 00:12:51 INFO:vbLDA:[ITER] 83,\telapsed time:0.39,\tELBO:-348468.56\n",
      "2021-07-14 00:12:51 INFO:vbLDA:[ITER] 84,\telapsed time:0.39,\tELBO:-348468.05\n",
      "2021-07-14 00:12:52 INFO:vbLDA:[ITER] 85,\telapsed time:0.39,\tELBO:-348467.22\n",
      "2021-07-14 00:12:52 INFO:vbLDA:[ITER] 86,\telapsed time:0.39,\tELBO:-348464.35\n",
      "2021-07-14 00:12:53 INFO:vbLDA:[ITER] 87,\telapsed time:0.39,\tELBO:-348460.12\n",
      "2021-07-14 00:12:53 INFO:vbLDA:[ITER] 88,\telapsed time:0.40,\tELBO:-348459.20\n",
      "2021-07-14 00:12:53 INFO:vbLDA:[ITER] 89,\telapsed time:0.39,\tELBO:-348459.13\n",
      "2021-07-14 00:12:54 INFO:vbLDA:[ITER] 90,\telapsed time:0.39,\tELBO:-348458.95\n",
      "2021-07-14 00:12:54 INFO:vbLDA:[ITER] 91,\telapsed time:0.39,\tELBO:-348458.35\n",
      "2021-07-14 00:12:55 INFO:vbLDA:[ITER] 92,\telapsed time:0.39,\tELBO:-348456.44\n",
      "2021-07-14 00:12:55 INFO:vbLDA:[ITER] 93,\telapsed time:0.40,\tELBO:-348455.49\n",
      "2021-07-14 00:12:55 INFO:vbLDA:[ITER] 94,\telapsed time:0.42,\tELBO:-348454.02\n",
      "2021-07-14 00:12:56 INFO:vbLDA:[ITER] 95,\telapsed time:0.40,\tELBO:-348452.99\n",
      "2021-07-14 00:12:56 INFO:vbLDA:[ITER] 96,\telapsed time:0.39,\tELBO:-348452.98\n",
      "2021-07-14 00:12:57 INFO:vbLDA:[ITER] 97,\telapsed time:0.41,\tELBO:-348452.97\n",
      "2021-07-14 00:12:57 INFO:vbLDA:[ITER] 98,\telapsed time:0.39,\tELBO:-348452.96\n",
      "2021-07-14 00:12:57 INFO:vbLDA:[ITER] 99,\telapsed time:0.40,\tELBO:-348452.94\n"
     ]
    }
   ],
   "source": [
    "logger = logging.getLogger('vbLDA')\n",
    "logger.propagate = False\n",
    "\n",
    "vbmodel = vbLDA(n_doc, n_voca, n_topic)\n",
    "vbmodel.fit(doc_ids, doc_cnt, max_iter=max_iter)"
   ]
  },
  {
   "cell_type": "markdown",
   "metadata": {},
   "source": [
    "### Print top 10 probability words for each topic"
   ]
  },
  {
   "cell_type": "code",
   "execution_count": 8,
   "metadata": {
    "ExecuteTime": {
     "end_time": "2021-07-13T16:12:57.864922Z",
     "start_time": "2021-07-13T16:12:57.859884Z"
    }
   },
   "outputs": [
    {
     "name": "stdout",
     "output_type": "stream",
     "text": [
      "Topic 0 :  loss,profit,quarter,first,note,loan,interest,bank,tax,corp\n",
      "Topic 1 :  loss,quarter,bank,first,week,last,market,one,two,earnings\n",
      "Topic 2 :  share,may,growth,dividend,stock,would,one,tax,first,five\n",
      "Topic 3 :  corp,share,price,would,stock,oil,new,per,acquisition,borg\n",
      "Topic 4 :  nil,stocks,end,total,use,production,start,supply,soybean,demand\n",
      "Topic 5 :  offer,april,oil,gas,stock,would,one,share,may,common\n",
      "Topic 6 :  dollar,japan,dome,would,trade,deficit,yen,economic,market,debt\n",
      "Topic 7 :  february,march,days,trade,surplus,january,april,last,department,rose\n",
      "Topic 8 :  corp,price,would,trade,national,told,cut,april,wheat,china\n",
      "Topic 9 :  last,japan,month,trade,sugar,japanese,yen,bank,crop,around\n"
     ]
    }
   ],
   "source": [
    "for ti in range(n_topic):\n",
    "    top_words = get_top_words(vbmodel._lambda, voca, ti, n_words=10)\n",
    "    print('Topic', ti ,': ', ','.join(top_words))"
   ]
  },
  {
   "cell_type": "code",
   "execution_count": null,
   "metadata": {},
   "outputs": [],
   "source": []
  }
 ],
 "metadata": {
  "kernelspec": {
   "display_name": "Python 3",
   "language": "python",
   "name": "python3"
  },
  "language_info": {
   "codemirror_mode": {
    "name": "ipython",
    "version": 3
   },
   "file_extension": ".py",
   "mimetype": "text/x-python",
   "name": "python",
   "nbconvert_exporter": "python",
   "pygments_lexer": "ipython3",
   "version": "3.6.9"
  },
  "toc": {
   "base_numbering": 1,
   "nav_menu": {},
   "number_sections": true,
   "sideBar": true,
   "skip_h1_title": false,
   "title_cell": "Table of Contents",
   "title_sidebar": "Contents",
   "toc_cell": true,
   "toc_position": {},
   "toc_section_display": true,
   "toc_window_display": true
  },
  "toc_position": {
   "left": "1120px",
   "right": "20px",
   "top": "120px",
   "width": "299px"
  }
 },
 "nbformat": 4,
 "nbformat_minor": 1
}
