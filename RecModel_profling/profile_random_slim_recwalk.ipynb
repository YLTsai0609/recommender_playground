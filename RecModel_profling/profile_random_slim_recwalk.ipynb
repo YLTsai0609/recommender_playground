{
 "cells": [
  {
   "cell_type": "code",
   "execution_count": 1,
   "metadata": {
    "ExecuteTime": {
     "end_time": "2021-03-01T13:19:39.978008Z",
     "start_time": "2021-03-01T13:19:37.956465Z"
    }
   },
   "outputs": [
    {
     "name": "stderr",
     "output_type": "stream",
     "text": [
      "/Users/YuLong/miniconda3/envs/py_37_ds/lib/python3.7/site-packages/tensorboard/compat/tensorflow_stub/dtypes.py:541: FutureWarning: Passing (type, 1) or '1type' as a synonym of type is deprecated; in a future version of numpy, it will be understood as (type, (1,)) / '(1,)type'.\n",
      "  _np_qint8 = np.dtype([(\"qint8\", np.int8, 1)])\n",
      "/Users/YuLong/miniconda3/envs/py_37_ds/lib/python3.7/site-packages/tensorboard/compat/tensorflow_stub/dtypes.py:542: FutureWarning: Passing (type, 1) or '1type' as a synonym of type is deprecated; in a future version of numpy, it will be understood as (type, (1,)) / '(1,)type'.\n",
      "  _np_quint8 = np.dtype([(\"quint8\", np.uint8, 1)])\n",
      "/Users/YuLong/miniconda3/envs/py_37_ds/lib/python3.7/site-packages/tensorboard/compat/tensorflow_stub/dtypes.py:543: FutureWarning: Passing (type, 1) or '1type' as a synonym of type is deprecated; in a future version of numpy, it will be understood as (type, (1,)) / '(1,)type'.\n",
      "  _np_qint16 = np.dtype([(\"qint16\", np.int16, 1)])\n",
      "/Users/YuLong/miniconda3/envs/py_37_ds/lib/python3.7/site-packages/tensorboard/compat/tensorflow_stub/dtypes.py:544: FutureWarning: Passing (type, 1) or '1type' as a synonym of type is deprecated; in a future version of numpy, it will be understood as (type, (1,)) / '(1,)type'.\n",
      "  _np_quint16 = np.dtype([(\"quint16\", np.uint16, 1)])\n",
      "/Users/YuLong/miniconda3/envs/py_37_ds/lib/python3.7/site-packages/tensorboard/compat/tensorflow_stub/dtypes.py:545: FutureWarning: Passing (type, 1) or '1type' as a synonym of type is deprecated; in a future version of numpy, it will be understood as (type, (1,)) / '(1,)type'.\n",
      "  _np_qint32 = np.dtype([(\"qint32\", np.int32, 1)])\n",
      "/Users/YuLong/miniconda3/envs/py_37_ds/lib/python3.7/site-packages/tensorboard/compat/tensorflow_stub/dtypes.py:550: FutureWarning: Passing (type, 1) or '1type' as a synonym of type is deprecated; in a future version of numpy, it will be understood as (type, (1,)) / '(1,)type'.\n",
      "  np_resource = np.dtype([(\"resource\", np.ubyte, 1)])\n"
     ]
    },
    {
     "data": {
      "text/plain": [
       "['ml_100k_tst.npz', 'ml_100k_trn.npz', 'ML_20M.npz']"
      ]
     },
     "execution_count": 1,
     "metadata": {},
     "output_type": "execute_result"
    }
   ],
   "source": [
    "import scipy.sparse\n",
    "import numpy as np\n",
    "import matplotlib.pyplot as plt\n",
    "import os\n",
    "import RecModel\n",
    "import time\n",
    "os.listdir('./data')"
   ]
  },
  {
   "cell_type": "markdown",
   "metadata": {},
   "source": [
    "The Recmodel package implements the following models:\n",
    "\n",
    "* [Neighbor](https://dl.acm.org/doi/10.1145/371920.372071): RecModel.Neighborhood\n",
    "\n",
    "* [SLIM](https://dl.acm.org/doi/10.1109/ICDM.2011.134): RecModel.SLIM\n",
    "\n",
    "* [VAE](https://dl.acm.org/doi/abs/10.1145/3178876.3186150): RecModel.VAE\n",
    "\n",
    "* [EASE](https://dl.acm.org/doi/abs/10.1145/3308558.3313710): RecModel.EASE\n",
    "\n",
    "* [WMF](https://dl.acm.org/doi/10.1109/ICDM.2008.22): RecModel.WMF\n",
    "\n",
    "* [RecWalk](https://dl.acm.org/doi/abs/10.1145/3289600.3291016): RecModel.RecWalk\n",
    "\n",
    "All these models have different hyper parameters, for more details take a look in the Documentation of the individual models."
   ]
  },
  {
   "cell_type": "code",
   "execution_count": 2,
   "metadata": {
    "ExecuteTime": {
     "end_time": "2021-03-01T13:19:41.621790Z",
     "start_time": "2021-03-01T13:19:41.618502Z"
    }
   },
   "outputs": [],
   "source": [
    "num_users = 20000\n",
    "num_items = 5000"
   ]
  },
  {
   "cell_type": "code",
   "execution_count": 3,
   "metadata": {
    "ExecuteTime": {
     "end_time": "2021-03-01T13:19:42.318340Z",
     "start_time": "2021-03-01T13:19:41.960736Z"
    }
   },
   "outputs": [],
   "source": [
    "movielens_20m = scipy.sparse.load_npz('data/ML_20M.npz')[:num_users, :num_items]\n",
    "\n",
    "num_users, num_items = movielens_20m.shape"
   ]
  },
  {
   "cell_type": "markdown",
   "metadata": {},
   "source": [
    "And split it into train and test:"
   ]
  },
  {
   "cell_type": "code",
   "execution_count": 4,
   "metadata": {
    "ExecuteTime": {
     "end_time": "2021-03-01T13:19:42.831624Z",
     "start_time": "2021-03-01T13:19:42.722345Z"
    }
   },
   "outputs": [],
   "source": [
    "train_data, test_data = RecModel.train_test_split_sparse_mat(movielens_20m)"
   ]
  },
  {
   "cell_type": "code",
   "execution_count": 5,
   "metadata": {
    "ExecuteTime": {
     "end_time": "2021-03-01T13:19:43.236916Z",
     "start_time": "2021-03-01T13:19:43.232380Z"
    }
   },
   "outputs": [
    {
     "data": {
      "text/plain": [
       "(<20000x5000 sparse matrix of type '<class 'numpy.float32'>'\n",
       " \twith 1109517 stored elements in Compressed Sparse Row format>,\n",
       " <20000x5000 sparse matrix of type '<class 'numpy.float32'>'\n",
       " \twith 277579 stored elements in Compressed Sparse Row format>)"
      ]
     },
     "execution_count": 5,
     "metadata": {},
     "output_type": "execute_result"
    }
   ],
   "source": [
    "# profling this\n",
    "train_data, test_data"
   ]
  },
  {
   "cell_type": "markdown",
   "metadata": {},
   "source": [
    "# Random"
   ]
  },
  {
   "cell_type": "markdown",
   "metadata": {},
   "source": [
    "The Naive Baseline only samples random items for every user. Therefore it does not need be trained."
   ]
  },
  {
   "cell_type": "code",
   "execution_count": 6,
   "metadata": {
    "ExecuteTime": {
     "end_time": "2021-03-01T13:19:45.512235Z",
     "start_time": "2021-03-01T13:19:45.509276Z"
    }
   },
   "outputs": [],
   "source": [
    "# naive_model = RecModel.NaiveBaseline(num_items=num_items)"
   ]
  },
  {
   "cell_type": "code",
   "execution_count": 7,
   "metadata": {
    "ExecuteTime": {
     "end_time": "2021-03-01T13:19:46.788517Z",
     "start_time": "2021-03-01T13:19:46.786283Z"
    }
   },
   "outputs": [],
   "source": [
    "# test_data"
   ]
  },
  {
   "cell_type": "code",
   "execution_count": 8,
   "metadata": {
    "ExecuteTime": {
     "end_time": "2021-03-01T13:19:46.979463Z",
     "start_time": "2021-03-01T13:19:46.977326Z"
    }
   },
   "outputs": [],
   "source": [
    "# naive_model_performance = naive_model.eval_topn(test_mat=test_data, topn = np.array([5, 10, 20, 50]),\n",
    "#                                                 rand_sampled_users=1000,\n",
    "#                                                 rand_sampled_items=1000,\n",
    "#                                                cores=8,\n",
    "#                                                random_state=2)"
   ]
  },
  {
   "cell_type": "code",
   "execution_count": 9,
   "metadata": {
    "ExecuteTime": {
     "end_time": "2021-03-01T13:19:47.211735Z",
     "start_time": "2021-03-01T13:19:47.209533Z"
    }
   },
   "outputs": [],
   "source": [
    "# {'Recall@5': 0.005208690254251913, 'Recall@10': 0.01040737630173488, 'Recall@20': 0.020970318018726876, 'Recall@50': 0.05209790716996497}\n",
    "# print(naive_model_performance)"
   ]
  },
  {
   "cell_type": "code",
   "execution_count": 10,
   "metadata": {
    "ExecuteTime": {
     "end_time": "2021-03-01T13:19:47.545143Z",
     "start_time": "2021-03-01T13:19:47.542433Z"
    }
   },
   "outputs": [],
   "source": [
    "# topn_dict = [5, 10, 20, 50]\n",
    "\n",
    "# coverage_dict = {}\n",
    "# for topn in topn_dict:\n",
    "#     recommendation_frequencies = RecModel.test_coverage(naive_model, test_data,\n",
    "#                                                         topN=topn,\n",
    "#                                                         rand_sampled_users=1000,\n",
    "#                                                        random_state=2)\n",
    "#     coverage = (recommendation_frequencies > 0).mean()\n",
    "#     coverage_dict[f'Coverage@{topn}'] = coverage\n",
    "# coverage_dict"
   ]
  },
  {
   "cell_type": "markdown",
   "metadata": {},
   "source": [
    "# slim"
   ]
  },
  {
   "cell_type": "code",
   "execution_count": 11,
   "metadata": {
    "ExecuteTime": {
     "end_time": "2021-02-24T17:05:24.970425Z",
     "start_time": "2021-02-24T17:05:24.967524Z"
    }
   },
   "outputs": [],
   "source": [
    "# can we save the matrix?\n",
    "# slim_model = RecModel.SLIM(num_items=num_items, num_users=num_users)"
   ]
  },
  {
   "cell_type": "markdown",
   "metadata": {},
   "source": [
    "The SLIM model is a  model-based collaborative filtering recommender. Therefore it needs to be trained on past interaction data. Unfortunately, the SLIM model is expensive to train and would need about an hour of training based on the full netlix dataset. To get more information about the status during training, set the verbose parameter to True! Additionally, the model has the hyper parameters alpha, l1_ratio, max_iter and tolerance. I set them to values that worked good on other datasets. To improve performance you should tune them to the netflix dataset."
   ]
  },
  {
   "cell_type": "code",
   "execution_count": 12,
   "metadata": {
    "ExecuteTime": {
     "end_time": "2021-02-24T17:05:27.896241Z",
     "start_time": "2021-02-24T17:05:27.893392Z"
    }
   },
   "outputs": [],
   "source": [
    "# start = time.time()\n",
    "# slim_model.train(X=train_data, alpha=4.427181, l1_ratio=0.318495, max_iter=27,\n",
    "#                  tolerance=0.006841, cores=8, verbose=False)\n",
    "# end = time.time()\n",
    "# print(f'training slim, train data {train_data.shape}, time : {end - start} s')"
   ]
  },
  {
   "cell_type": "markdown",
   "metadata": {},
   "source": [
    "After we trained the model, we can check its performance on the test dataset:"
   ]
  },
  {
   "cell_type": "code",
   "execution_count": 13,
   "metadata": {
    "ExecuteTime": {
     "end_time": "2021-02-24T17:05:31.923196Z",
     "start_time": "2021-02-24T17:05:31.920733Z"
    }
   },
   "outputs": [],
   "source": [
    "# # inference time here\n",
    "# items=np.random.randint(low=0,high=2000,size=1000)\n",
    "# warm_start = 10\n",
    "# n_inference = 50\n",
    "# inference_time_sample = []\n",
    "\n",
    "# for i in range(warm_start):\n",
    "#     slim_model.rank(items, users=1, topn=10)\n",
    "\n",
    "\n",
    "# for i in range(n_inference):\n",
    "#     start = time.time()\n",
    "#     slim_model.rank(items, users=1, topn=10)\n",
    "#     inference_time = (time.time() - start) * 1000\n",
    "#     inference_time_sample.append(inference_time)\n",
    "\n",
    "# np.mean(inference_time_sample), np.std(inference_time_sample)"
   ]
  },
  {
   "cell_type": "code",
   "execution_count": 14,
   "metadata": {
    "ExecuteTime": {
     "end_time": "2021-02-24T17:05:43.602831Z",
     "start_time": "2021-02-24T17:05:43.599382Z"
    }
   },
   "outputs": [],
   "source": [
    "# # how long?\n",
    "# slim_model_performance = slim_model.eval_topn(test_mat=test_data,\n",
    "#                                               topn = np.array([5, 10, 20, 50]),\n",
    "#                                                 rand_sampled_users=1000,\n",
    "#                                                 rand_sampled_items=1000,\n",
    "#                                                cores=8,\n",
    "#                                                random_state=2)"
   ]
  },
  {
   "cell_type": "code",
   "execution_count": 15,
   "metadata": {
    "ExecuteTime": {
     "end_time": "2021-02-24T17:05:46.145790Z",
     "start_time": "2021-02-24T17:05:46.142108Z"
    }
   },
   "outputs": [],
   "source": [
    "# print(slim_model_performance)"
   ]
  },
  {
   "cell_type": "code",
   "execution_count": 16,
   "metadata": {
    "ExecuteTime": {
     "end_time": "2021-02-24T17:05:48.575224Z",
     "start_time": "2021-02-24T17:05:48.571997Z"
    }
   },
   "outputs": [],
   "source": [
    "# # coverage\n",
    "# # recommendation_frequencies = RecModel.test_coverage(slim_model, train_data, topN=5)\n",
    "\n",
    "# topn_dict = [5, 10, 20, 50]\n",
    "\n",
    "# coverage_dict = {}\n",
    "# for topn in topn_dict:\n",
    "#     recommendation_frequencies = RecModel.test_coverage(slim_model, test_data,\n",
    "#                                                         topN=topn,\n",
    "#                                                         rand_sampled_users=1000,\n",
    "#                                                         random_state=2)\n",
    "#     coverage = (recommendation_frequencies > 0).mean()\n",
    "#     coverage_dict[f'Coverage@{topn}'] = coverage\n",
    "# coverage_dict"
   ]
  },
  {
   "cell_type": "markdown",
   "metadata": {},
   "source": [
    "We can also plot the frequencies of the most recommended items:"
   ]
  },
  {
   "cell_type": "code",
   "execution_count": 18,
   "metadata": {
    "ExecuteTime": {
     "end_time": "2021-02-16T17:40:19.585148Z",
     "start_time": "2021-02-16T17:40:19.582997Z"
    }
   },
   "outputs": [],
   "source": [
    "# n_items_to_plot = 1000\n",
    "\n",
    "# sorted_recommendation_frequencies = np.sort(recommendation_frequencies)[::-1]\n",
    "\n",
    "# fig, ax = plt.subplots(figsize=(20, 8))\n",
    "# ax.plot(np.arange(0, n_items_to_plot), sorted_recommendation_frequencies[:n_items_to_plot])\n"
   ]
  },
  {
   "cell_type": "markdown",
   "metadata": {},
   "source": [
    "# recwalk"
   ]
  },
  {
   "cell_type": "code",
   "execution_count": 18,
   "metadata": {
    "ExecuteTime": {
     "end_time": "2021-02-23T14:36:06.121809Z",
     "start_time": "2021-02-23T14:36:05.919484Z"
    }
   },
   "outputs": [],
   "source": [
    "# scipy.sparse.save_npz('slim_w_u20000_i5000', slim_model.W)"
   ]
  },
  {
   "cell_type": "markdown",
   "metadata": {},
   "source": [
    "## save item similarity for recwalk"
   ]
  },
  {
   "cell_type": "code",
   "execution_count": 18,
   "metadata": {
    "ExecuteTime": {
     "end_time": "2021-02-24T17:06:21.592408Z",
     "start_time": "2021-02-24T17:06:21.589691Z"
    }
   },
   "outputs": [],
   "source": [
    "# slim_W = scipy.sparse.load_npz('slim_w_u20000_i5000.npz')\n",
    "# slim_W"
   ]
  },
  {
   "cell_type": "code",
   "execution_count": 21,
   "metadata": {
    "ExecuteTime": {
     "end_time": "2021-02-23T14:36:56.573628Z",
     "start_time": "2021-02-23T14:36:56.569147Z"
    }
   },
   "outputs": [],
   "source": [
    "# recwalk_model = RecModel.RecWalk(\n",
    "#     num_items=num_items, num_users=num_users,\n",
    "#     k_steps=18,\n",
    "#     eval_method='k_step',\n",
    "#     slim_W=slim_W\n",
    "# )"
   ]
  },
  {
   "cell_type": "code",
   "execution_count": 22,
   "metadata": {
    "ExecuteTime": {
     "end_time": "2021-02-23T14:37:00.008828Z",
     "start_time": "2021-02-23T14:36:59.732144Z"
    }
   },
   "outputs": [
    {
     "name": "stderr",
     "output_type": "stream",
     "text": [
      "/Users/YuLong/miniconda3/envs/py_37_ds/lib/python3.7/site-packages/scipy/sparse/_index.py:124: SparseEfficiencyWarning: Changing the sparsity structure of a csr_matrix is expensive. lil_matrix is more efficient.\n",
      "  self._set_arrayXarray(i, j, x)\n"
     ]
    },
    {
     "name": "stdout",
     "output_type": "stream",
     "text": [
      "training recwalk, train data (20000, 5000), time : 0.27168989181518555 s\n"
     ]
    }
   ],
   "source": [
    "# start = time.time()\n",
    "# # phi is a paramter in [0, 1]\n",
    "# # we'll check it later\n",
    "# # https://github.com/titoeb/RecModel/blob/master/RecModel/recwalk_model.py\n",
    "# recwalk_model.train(train_mat=train_data,\n",
    "#                     alpha=4.427181, l1_ratio=0.318495,\n",
    "#                     phi=0.005,\n",
    "#                     max_iter=27, tolerance=0.006841,\n",
    "#                     cores=8, verbose=True)\n",
    "# end = time.time()\n",
    "# print(f'training recwalk, train data {train_data.shape}, time : {end - start} s')"
   ]
  },
  {
   "cell_type": "code",
   "execution_count": 23,
   "metadata": {
    "ExecuteTime": {
     "end_time": "2021-02-23T14:37:46.054956Z",
     "start_time": "2021-02-23T14:37:42.017359Z"
    }
   },
   "outputs": [
    {
     "data": {
      "text/plain": [
       "(68.22432041168213, 9.886197908732267)"
      ]
     },
     "execution_count": 23,
     "metadata": {},
     "output_type": "execute_result"
    }
   ],
   "source": [
    "# # inference time here\n",
    "\n",
    "# items = np.random.randint(low=0,high=1200,size=1000)\n",
    "# warm_start = 10\n",
    "# n_inference = 50\n",
    "# inference_time_sample = []\n",
    "\n",
    "# for i in range(warm_start):\n",
    "#     recommendation = recwalk_model.rank(items, users=1, topn=10)\n",
    "\n",
    "\n",
    "# for i in range(n_inference):\n",
    "#     start = time.time()\n",
    "#     recwalk_model.rank(items, users=1, topn=10)\n",
    "#     inference_time = (time.time() - start) * 1000\n",
    "#     inference_time_sample.append(inference_time)\n",
    "\n",
    "# np.mean(inference_time_sample), np.std(inference_time_sample)"
   ]
  },
  {
   "cell_type": "code",
   "execution_count": 25,
   "metadata": {
    "ExecuteTime": {
     "end_time": "2021-02-23T14:44:31.152365Z",
     "start_time": "2021-02-23T14:38:29.787532Z"
    }
   },
   "outputs": [
    {
     "name": "stdout",
     "output_type": "stream",
     "text": [
      "This process will sampling 1000\n",
      "time : 361.3586411476135 s\n"
     ]
    }
   ],
   "source": [
    "# # 預期在300秒之內跑完\n",
    "# # single user 68 ms x 1000 = 68s\n",
    "# # 68 x 4 = 272s\n",
    "# start = time.time()\n",
    "# recwalk_model_performance = recwalk_model.eval_topn(test_mat=test_data,\n",
    "#                                               topn = np.array([5, 10, 20, 50]),\n",
    "#                                               rand_sampled_users=1000,\n",
    "#                                               rand_sampled_items=1000,\n",
    "#                                                cores=8,\n",
    "#                                                random_state=2)\n",
    "# end = time.time()\n",
    "# print(f'time : {end - start} s')"
   ]
  },
  {
   "cell_type": "code",
   "execution_count": 26,
   "metadata": {
    "ExecuteTime": {
     "end_time": "2021-02-23T14:44:31.157596Z",
     "start_time": "2021-02-23T14:44:31.154755Z"
    }
   },
   "outputs": [
    {
     "name": "stdout",
     "output_type": "stream",
     "text": [
      "{'Recall@5': 0.018, 'Recall@10': 0.030307692, 'Recall@20': 0.053153846, 'Recall@50': 0.09376923}\n"
     ]
    }
   ],
   "source": [
    "# print(recwalk_model_performance)"
   ]
  },
  {
   "cell_type": "code",
   "execution_count": 27,
   "metadata": {
    "ExecuteTime": {
     "end_time": "2021-02-23T14:48:44.468589Z",
     "start_time": "2021-02-23T14:44:31.160059Z"
    }
   },
   "outputs": [
    {
     "name": "stdout",
     "output_type": "stream",
     "text": [
      "This process will sampling 1000\n",
      "This process will sampling 1000\n",
      "This process will sampling 1000\n",
      "This process will sampling 1000\n",
      "time : 253.30329489707947 s\n"
     ]
    },
    {
     "data": {
      "text/plain": [
       "{'Coverage@5': 0.5086,\n",
       " 'Coverage@10': 0.6874,\n",
       " 'Coverage@20': 0.7794,\n",
       " 'Coverage@50': 0.843}"
      ]
     },
     "execution_count": 27,
     "metadata": {},
     "output_type": "execute_result"
    }
   ],
   "source": [
    "\n",
    "# start = time.time()\n",
    "# topn_dict = [5, 10, 20, 50]\n",
    "\n",
    "# coverage_dict = {}\n",
    "# for topn in topn_dict:\n",
    "#     recommendation_frequencies = RecModel.test_coverage(recwalk_model, test_data,\n",
    "#                                                         topN=topn,\n",
    "#                                                         rand_sampled_users=1000,\n",
    "#                                                         random_state=2)\n",
    "#     coverage = (recommendation_frequencies > 0).mean()\n",
    "#     coverage_dict[f'Coverage@{topn}'] = coverage\n",
    "\n",
    "# end = time.time()\n",
    "# print(f'time : {end - start} s')\n",
    "# coverage_dict"
   ]
  },
  {
   "cell_type": "markdown",
   "metadata": {},
   "source": [
    "## RecWalk in detail"
   ]
  },
  {
   "cell_type": "code",
   "execution_count": 11,
   "metadata": {
    "ExecuteTime": {
     "end_time": "2021-03-01T13:19:54.933699Z",
     "start_time": "2021-03-01T13:19:54.886479Z"
    }
   },
   "outputs": [
    {
     "data": {
      "text/plain": [
       "<5000x5000 sparse matrix of type '<class 'numpy.float64'>'\n",
       "\twith 262528 stored elements in Compressed Sparse Column format>"
      ]
     },
     "execution_count": 11,
     "metadata": {},
     "output_type": "execute_result"
    }
   ],
   "source": [
    "slim_W = scipy.sparse.load_npz('slim_w_u20000_i5000.npz')\n",
    "slim_W"
   ]
  },
  {
   "cell_type": "code",
   "execution_count": 12,
   "metadata": {
    "ExecuteTime": {
     "end_time": "2021-03-01T13:19:56.213959Z",
     "start_time": "2021-03-01T13:19:56.211291Z"
    }
   },
   "outputs": [],
   "source": [
    "# step 18 : 66ms"
   ]
  },
  {
   "cell_type": "code",
   "execution_count": 13,
   "metadata": {
    "ExecuteTime": {
     "end_time": "2021-03-01T13:19:56.811762Z",
     "start_time": "2021-03-01T13:19:56.809454Z"
    }
   },
   "outputs": [],
   "source": [
    "# step 3 : 11ms x 1000 x 2= 22s\n",
    "# step 6 : 22ms x 1000 x 2= 44s\n",
    "# step 9 : 33ms x 1000 x 2= 66s\n",
    "# step 12 : 44ms x 1000 x 2= 88s\n",
    "# step 15 : 55ms x 1000 x 2= 110s\n",
    "# step 21 : 77ms x 1000 x 2= 154s"
   ]
  },
  {
   "cell_type": "code",
   "execution_count": 14,
   "metadata": {
    "ExecuteTime": {
     "end_time": "2021-03-01T13:20:09.044456Z",
     "start_time": "2021-03-01T13:20:02.065698Z"
    }
   },
   "outputs": [
    {
     "name": "stdout",
     "output_type": "stream",
     "text": [
      "steps 3\n"
     ]
    },
    {
     "name": "stderr",
     "output_type": "stream",
     "text": [
      "/Users/YuLong/miniconda3/envs/py_37_ds/lib/python3.7/site-packages/scipy/sparse/_index.py:124: SparseEfficiencyWarning: Changing the sparsity structure of a csr_matrix is expensive. lil_matrix is more efficient.\n",
      "  self._set_arrayXarray(i, j, x)\n"
     ]
    },
    {
     "name": "stdout",
     "output_type": "stream",
     "text": [
      "This process will sampling 1000\n"
     ]
    },
    {
     "name": "stderr",
     "output_type": "stream",
     "text": [
      "Process ForkPoolWorker-6:\n",
      "Process ForkPoolWorker-3:\n",
      "Process ForkPoolWorker-4:\n",
      "Process ForkPoolWorker-5:\n",
      "Traceback (most recent call last):\n",
      "Traceback (most recent call last):\n",
      "Process ForkPoolWorker-8:\n",
      "  File \"/Users/YuLong/miniconda3/envs/py_37_ds/lib/python3.7/multiprocessing/process.py\", line 297, in _bootstrap\n",
      "    self.run()\n",
      "  File \"/Users/YuLong/miniconda3/envs/py_37_ds/lib/python3.7/multiprocessing/process.py\", line 297, in _bootstrap\n",
      "    self.run()\n",
      "  File \"/Users/YuLong/miniconda3/envs/py_37_ds/lib/python3.7/multiprocessing/process.py\", line 99, in run\n",
      "    self._target(*self._args, **self._kwargs)\n",
      "Traceback (most recent call last):\n",
      "Process ForkPoolWorker-1:\n",
      "Traceback (most recent call last):\n",
      "  File \"/Users/YuLong/miniconda3/envs/py_37_ds/lib/python3.7/multiprocessing/pool.py\", line 121, in worker\n",
      "    result = (True, func(*args, **kwds))\n",
      "Process ForkPoolWorker-7:\n",
      "Process ForkPoolWorker-2:\n",
      "  File \"/Users/YuLong/miniconda3/envs/py_37_ds/lib/python3.7/multiprocessing/process.py\", line 297, in _bootstrap\n",
      "    self.run()\n",
      "  File \"/Users/YuLong/miniconda3/envs/py_37_ds/lib/python3.7/multiprocessing/pool.py\", line 44, in mapstar\n",
      "    return list(map(*args))\n",
      "Traceback (most recent call last):\n",
      "Traceback (most recent call last):\n",
      "  File \"/Users/YuLong/miniconda3/envs/py_37_ds/lib/python3.7/multiprocessing/process.py\", line 297, in _bootstrap\n",
      "    self.run()\n",
      "Traceback (most recent call last):\n",
      "Traceback (most recent call last):\n",
      "  File \"/Users/YuLong/miniconda3/envs/py_37_ds/lib/python3.7/multiprocessing/process.py\", line 99, in run\n",
      "    self._target(*self._args, **self._kwargs)\n",
      "  File \"/Users/YuLong/miniconda3/envs/py_37_ds/lib/python3.7/multiprocessing/process.py\", line 297, in _bootstrap\n",
      "    self.run()\n",
      "  File \"/Users/YuLong/miniconda3/envs/py_37_ds/lib/python3.7/multiprocessing/process.py\", line 297, in _bootstrap\n",
      "    self.run()\n",
      "  File \"/Users/YuLong/Desktop/Working_Area/recsys_im/RecModel/RecModel/base_model.py\", line 110, in compute_hit\n",
      "    items=rand_items, users=user, topn=topn.max())\n",
      "  File \"/Users/YuLong/miniconda3/envs/py_37_ds/lib/python3.7/multiprocessing/process.py\", line 99, in run\n",
      "    self._target(*self._args, **self._kwargs)\n",
      "  File \"/Users/YuLong/miniconda3/envs/py_37_ds/lib/python3.7/multiprocessing/process.py\", line 297, in _bootstrap\n",
      "    self.run()\n",
      "  File \"/Users/YuLong/miniconda3/envs/py_37_ds/lib/python3.7/multiprocessing/process.py\", line 297, in _bootstrap\n",
      "    self.run()\n",
      "  File \"/Users/YuLong/miniconda3/envs/py_37_ds/lib/python3.7/multiprocessing/pool.py\", line 121, in worker\n",
      "    result = (True, func(*args, **kwds))\n",
      "  File \"/Users/YuLong/miniconda3/envs/py_37_ds/lib/python3.7/multiprocessing/process.py\", line 99, in run\n",
      "    self._target(*self._args, **self._kwargs)\n",
      "  File \"/Users/YuLong/miniconda3/envs/py_37_ds/lib/python3.7/multiprocessing/process.py\", line 99, in run\n",
      "    self._target(*self._args, **self._kwargs)\n",
      "  File \"/Users/YuLong/Desktop/Working_Area/recsys_im/RecModel/RecModel/recwalk_model.py\", line 142, in rank\n",
      "    user_vec = scipy.sparse.csr_matrix.dot(self.P, user_vec)\n",
      "  File \"/Users/YuLong/miniconda3/envs/py_37_ds/lib/python3.7/multiprocessing/pool.py\", line 121, in worker\n",
      "    result = (True, func(*args, **kwds))\n",
      "  File \"/Users/YuLong/miniconda3/envs/py_37_ds/lib/python3.7/multiprocessing/process.py\", line 99, in run\n",
      "    self._target(*self._args, **self._kwargs)\n",
      "  File \"/Users/YuLong/miniconda3/envs/py_37_ds/lib/python3.7/multiprocessing/pool.py\", line 44, in mapstar\n",
      "    return list(map(*args))\n",
      "  File \"/Users/YuLong/miniconda3/envs/py_37_ds/lib/python3.7/multiprocessing/pool.py\", line 121, in worker\n",
      "    result = (True, func(*args, **kwds))\n",
      "  File \"/Users/YuLong/miniconda3/envs/py_37_ds/lib/python3.7/multiprocessing/process.py\", line 99, in run\n",
      "    self._target(*self._args, **self._kwargs)\n",
      "  File \"/Users/YuLong/miniconda3/envs/py_37_ds/lib/python3.7/multiprocessing/pool.py\", line 121, in worker\n",
      "    result = (True, func(*args, **kwds))\n",
      "  File \"/Users/YuLong/miniconda3/envs/py_37_ds/lib/python3.7/multiprocessing/pool.py\", line 121, in worker\n",
      "    result = (True, func(*args, **kwds))\n",
      "  File \"/Users/YuLong/miniconda3/envs/py_37_ds/lib/python3.7/multiprocessing/pool.py\", line 44, in mapstar\n",
      "    return list(map(*args))\n",
      "  File \"/Users/YuLong/miniconda3/envs/py_37_ds/lib/python3.7/site-packages/scipy/sparse/base.py\", line 359, in dot\n",
      "    return self * other\n",
      "  File \"/Users/YuLong/miniconda3/envs/py_37_ds/lib/python3.7/multiprocessing/pool.py\", line 121, in worker\n",
      "    result = (True, func(*args, **kwds))\n",
      "  File \"/Users/YuLong/Desktop/Working_Area/recsys_im/RecModel/RecModel/base_model.py\", line 110, in compute_hit\n",
      "    items=rand_items, users=user, topn=topn.max())\n",
      "  File \"/Users/YuLong/miniconda3/envs/py_37_ds/lib/python3.7/multiprocessing/pool.py\", line 44, in mapstar\n",
      "    return list(map(*args))\n",
      "  File \"/Users/YuLong/Desktop/Working_Area/recsys_im/RecModel/RecModel/base_model.py\", line 110, in compute_hit\n",
      "    items=rand_items, users=user, topn=topn.max())\n",
      "  File \"/Users/YuLong/miniconda3/envs/py_37_ds/lib/python3.7/multiprocessing/pool.py\", line 44, in mapstar\n",
      "    return list(map(*args))\n",
      "  File \"/Users/YuLong/miniconda3/envs/py_37_ds/lib/python3.7/site-packages/scipy/sparse/base.py\", line 467, in __mul__\n",
      "    return self._mul_vector(other)\n",
      "  File \"/Users/YuLong/miniconda3/envs/py_37_ds/lib/python3.7/multiprocessing/pool.py\", line 44, in mapstar\n",
      "    return list(map(*args))\n",
      "  File \"/Users/YuLong/miniconda3/envs/py_37_ds/lib/python3.7/multiprocessing/process.py\", line 99, in run\n",
      "    self._target(*self._args, **self._kwargs)\n",
      "  File \"/Users/YuLong/miniconda3/envs/py_37_ds/lib/python3.7/multiprocessing/pool.py\", line 44, in mapstar\n",
      "    return list(map(*args))\n",
      "  File \"/Users/YuLong/Desktop/Working_Area/recsys_im/RecModel/RecModel/recwalk_model.py\", line 142, in rank\n",
      "    user_vec = scipy.sparse.csr_matrix.dot(self.P, user_vec)\n",
      "  File \"/Users/YuLong/Desktop/Working_Area/recsys_im/RecModel/RecModel/recwalk_model.py\", line 142, in rank\n",
      "    user_vec = scipy.sparse.csr_matrix.dot(self.P, user_vec)\n",
      "  File \"/Users/YuLong/Desktop/Working_Area/recsys_im/RecModel/RecModel/base_model.py\", line 110, in compute_hit\n",
      "    items=rand_items, users=user, topn=topn.max())\n",
      "  File \"/Users/YuLong/Desktop/Working_Area/recsys_im/RecModel/RecModel/base_model.py\", line 110, in compute_hit\n",
      "    items=rand_items, users=user, topn=topn.max())\n",
      "  File \"/Users/YuLong/miniconda3/envs/py_37_ds/lib/python3.7/site-packages/scipy/sparse/compressed.py\", line 476, in _mul_vector\n",
      "    fn(M, N, self.indptr, self.indices, self.data, other, result)\n",
      "  File \"/Users/YuLong/miniconda3/envs/py_37_ds/lib/python3.7/site-packages/scipy/sparse/base.py\", line 359, in dot\n",
      "    return self * other\n",
      "  File \"/Users/YuLong/Desktop/Working_Area/recsys_im/RecModel/RecModel/base_model.py\", line 110, in compute_hit\n",
      "    items=rand_items, users=user, topn=topn.max())\n",
      "  File \"/Users/YuLong/Desktop/Working_Area/recsys_im/RecModel/RecModel/base_model.py\", line 110, in compute_hit\n",
      "    items=rand_items, users=user, topn=topn.max())\n",
      "  File \"/Users/YuLong/Desktop/Working_Area/recsys_im/RecModel/RecModel/recwalk_model.py\", line 142, in rank\n",
      "    user_vec = scipy.sparse.csr_matrix.dot(self.P, user_vec)\n",
      "  File \"/Users/YuLong/miniconda3/envs/py_37_ds/lib/python3.7/site-packages/scipy/sparse/base.py\", line 359, in dot\n",
      "    return self * other\n",
      "  File \"/Users/YuLong/Desktop/Working_Area/recsys_im/RecModel/RecModel/recwalk_model.py\", line 142, in rank\n",
      "    user_vec = scipy.sparse.csr_matrix.dot(self.P, user_vec)\n",
      "  File \"/Users/YuLong/miniconda3/envs/py_37_ds/lib/python3.7/site-packages/scipy/sparse/base.py\", line 467, in __mul__\n",
      "    return self._mul_vector(other)\n",
      "KeyboardInterrupt\n",
      "  File \"/Users/YuLong/Desktop/Working_Area/recsys_im/RecModel/RecModel/recwalk_model.py\", line 142, in rank\n",
      "    user_vec = scipy.sparse.csr_matrix.dot(self.P, user_vec)\n",
      "  File \"/Users/YuLong/miniconda3/envs/py_37_ds/lib/python3.7/site-packages/scipy/sparse/base.py\", line 467, in __mul__\n",
      "    return self._mul_vector(other)\n",
      "  File \"/Users/YuLong/Desktop/Working_Area/recsys_im/RecModel/RecModel/recwalk_model.py\", line 142, in rank\n",
      "    user_vec = scipy.sparse.csr_matrix.dot(self.P, user_vec)\n",
      "  File \"/Users/YuLong/miniconda3/envs/py_37_ds/lib/python3.7/site-packages/scipy/sparse/base.py\", line 359, in dot\n",
      "    return self * other\n"
     ]
    },
    {
     "name": "stderr",
     "output_type": "stream",
     "text": [
      "  File \"/Users/YuLong/miniconda3/envs/py_37_ds/lib/python3.7/site-packages/scipy/sparse/compressed.py\", line 476, in _mul_vector\n",
      "    fn(M, N, self.indptr, self.indices, self.data, other, result)\n",
      "  File \"/Users/YuLong/miniconda3/envs/py_37_ds/lib/python3.7/site-packages/scipy/sparse/base.py\", line 359, in dot\n",
      "    return self * other\n",
      "  File \"/Users/YuLong/miniconda3/envs/py_37_ds/lib/python3.7/site-packages/scipy/sparse/base.py\", line 359, in dot\n",
      "    return self * other\n",
      "  File \"/Users/YuLong/miniconda3/envs/py_37_ds/lib/python3.7/site-packages/scipy/sparse/compressed.py\", line 476, in _mul_vector\n",
      "    fn(M, N, self.indptr, self.indices, self.data, other, result)\n",
      "  File \"/Users/YuLong/miniconda3/envs/py_37_ds/lib/python3.7/site-packages/scipy/sparse/base.py\", line 359, in dot\n",
      "    return self * other\n",
      "KeyboardInterrupt\n",
      "  File \"/Users/YuLong/miniconda3/envs/py_37_ds/lib/python3.7/site-packages/scipy/sparse/base.py\", line 467, in __mul__\n",
      "    return self._mul_vector(other)\n",
      "  File \"/Users/YuLong/miniconda3/envs/py_37_ds/lib/python3.7/site-packages/scipy/sparse/base.py\", line 467, in __mul__\n",
      "    return self._mul_vector(other)\n",
      "  File \"/Users/YuLong/miniconda3/envs/py_37_ds/lib/python3.7/site-packages/scipy/sparse/base.py\", line 467, in __mul__\n",
      "    return self._mul_vector(other)\n",
      "  File \"/Users/YuLong/miniconda3/envs/py_37_ds/lib/python3.7/site-packages/scipy/sparse/base.py\", line 467, in __mul__\n",
      "    return self._mul_vector(other)\n",
      "  File \"/Users/YuLong/miniconda3/envs/py_37_ds/lib/python3.7/site-packages/scipy/sparse/compressed.py\", line 476, in _mul_vector\n",
      "    fn(M, N, self.indptr, self.indices, self.data, other, result)\n",
      "KeyboardInterrupt\n",
      "  File \"/Users/YuLong/miniconda3/envs/py_37_ds/lib/python3.7/site-packages/scipy/sparse/compressed.py\", line 476, in _mul_vector\n",
      "    fn(M, N, self.indptr, self.indices, self.data, other, result)\n",
      "  File \"/Users/YuLong/miniconda3/envs/py_37_ds/lib/python3.7/site-packages/scipy/sparse/compressed.py\", line 476, in _mul_vector\n",
      "    fn(M, N, self.indptr, self.indices, self.data, other, result)\n",
      "  File \"/Users/YuLong/miniconda3/envs/py_37_ds/lib/python3.7/site-packages/scipy/sparse/compressed.py\", line 476, in _mul_vector\n",
      "    fn(M, N, self.indptr, self.indices, self.data, other, result)\n",
      "KeyboardInterrupt\n",
      "KeyboardInterrupt\n",
      "KeyboardInterrupt\n",
      "KeyboardInterrupt\n",
      "  File \"/Users/YuLong/miniconda3/envs/py_37_ds/lib/python3.7/multiprocessing/pool.py\", line 121, in worker\n",
      "    result = (True, func(*args, **kwds))\n",
      "  File \"/Users/YuLong/miniconda3/envs/py_37_ds/lib/python3.7/multiprocessing/pool.py\", line 44, in mapstar\n",
      "    return list(map(*args))\n",
      "  File \"/Users/YuLong/Desktop/Working_Area/recsys_im/RecModel/RecModel/base_model.py\", line 110, in compute_hit\n",
      "    items=rand_items, users=user, topn=topn.max())\n",
      "  File \"/Users/YuLong/Desktop/Working_Area/recsys_im/RecModel/RecModel/recwalk_model.py\", line 142, in rank\n",
      "    user_vec = scipy.sparse.csr_matrix.dot(self.P, user_vec)\n",
      "  File \"/Users/YuLong/miniconda3/envs/py_37_ds/lib/python3.7/site-packages/scipy/sparse/base.py\", line 359, in dot\n",
      "    return self * other\n",
      "  File \"/Users/YuLong/miniconda3/envs/py_37_ds/lib/python3.7/site-packages/scipy/sparse/base.py\", line 467, in __mul__\n",
      "    return self._mul_vector(other)\n",
      "  File \"/Users/YuLong/miniconda3/envs/py_37_ds/lib/python3.7/site-packages/scipy/sparse/compressed.py\", line 476, in _mul_vector\n",
      "    fn(M, N, self.indptr, self.indices, self.data, other, result)\n",
      "KeyboardInterrupt\n",
      "Process ForkPoolWorker-16:\n",
      "Process ForkPoolWorker-12:\n",
      "Process ForkPoolWorker-13:\n",
      "Process ForkPoolWorker-14:\n",
      "Process ForkPoolWorker-11:\n",
      "Process ForkPoolWorker-15:\n",
      "Process ForkPoolWorker-10:\n",
      "Process ForkPoolWorker-9:\n",
      "Traceback (most recent call last):\n",
      "Traceback (most recent call last):\n",
      "Traceback (most recent call last):\n",
      "Traceback (most recent call last):\n",
      "Traceback (most recent call last):\n",
      "Traceback (most recent call last):\n",
      "Traceback (most recent call last):\n",
      "Traceback (most recent call last):\n",
      "  File \"/Users/YuLong/miniconda3/envs/py_37_ds/lib/python3.7/multiprocessing/process.py\", line 297, in _bootstrap\n",
      "    self.run()\n",
      "  File \"/Users/YuLong/miniconda3/envs/py_37_ds/lib/python3.7/multiprocessing/process.py\", line 297, in _bootstrap\n",
      "    self.run()\n",
      "  File \"/Users/YuLong/miniconda3/envs/py_37_ds/lib/python3.7/multiprocessing/process.py\", line 297, in _bootstrap\n",
      "    self.run()\n",
      "  File \"/Users/YuLong/miniconda3/envs/py_37_ds/lib/python3.7/multiprocessing/process.py\", line 297, in _bootstrap\n",
      "    self.run()\n",
      "  File \"/Users/YuLong/miniconda3/envs/py_37_ds/lib/python3.7/multiprocessing/process.py\", line 297, in _bootstrap\n",
      "    self.run()\n",
      "  File \"/Users/YuLong/miniconda3/envs/py_37_ds/lib/python3.7/multiprocessing/process.py\", line 297, in _bootstrap\n",
      "    self.run()\n",
      "  File \"/Users/YuLong/miniconda3/envs/py_37_ds/lib/python3.7/multiprocessing/process.py\", line 297, in _bootstrap\n",
      "    self.run()\n",
      "  File \"/Users/YuLong/miniconda3/envs/py_37_ds/lib/python3.7/multiprocessing/process.py\", line 297, in _bootstrap\n",
      "    self.run()\n",
      "  File \"/Users/YuLong/miniconda3/envs/py_37_ds/lib/python3.7/multiprocessing/process.py\", line 99, in run\n",
      "    self._target(*self._args, **self._kwargs)\n",
      "  File \"/Users/YuLong/miniconda3/envs/py_37_ds/lib/python3.7/multiprocessing/process.py\", line 99, in run\n",
      "    self._target(*self._args, **self._kwargs)\n",
      "  File \"/Users/YuLong/miniconda3/envs/py_37_ds/lib/python3.7/multiprocessing/process.py\", line 99, in run\n",
      "    self._target(*self._args, **self._kwargs)\n",
      "  File \"/Users/YuLong/miniconda3/envs/py_37_ds/lib/python3.7/multiprocessing/process.py\", line 99, in run\n",
      "    self._target(*self._args, **self._kwargs)\n",
      "  File \"/Users/YuLong/miniconda3/envs/py_37_ds/lib/python3.7/multiprocessing/process.py\", line 99, in run\n",
      "    self._target(*self._args, **self._kwargs)\n",
      "  File \"/Users/YuLong/miniconda3/envs/py_37_ds/lib/python3.7/multiprocessing/process.py\", line 99, in run\n",
      "    self._target(*self._args, **self._kwargs)\n",
      "  File \"/Users/YuLong/miniconda3/envs/py_37_ds/lib/python3.7/multiprocessing/process.py\", line 99, in run\n",
      "    self._target(*self._args, **self._kwargs)\n",
      "  File \"/Users/YuLong/miniconda3/envs/py_37_ds/lib/python3.7/multiprocessing/process.py\", line 99, in run\n",
      "    self._target(*self._args, **self._kwargs)\n",
      "  File \"/Users/YuLong/miniconda3/envs/py_37_ds/lib/python3.7/multiprocessing/pool.py\", line 110, in worker\n",
      "    task = get()\n",
      "  File \"/Users/YuLong/miniconda3/envs/py_37_ds/lib/python3.7/multiprocessing/pool.py\", line 110, in worker\n",
      "    task = get()\n",
      "  File \"/Users/YuLong/miniconda3/envs/py_37_ds/lib/python3.7/multiprocessing/pool.py\", line 110, in worker\n",
      "    task = get()\n",
      "  File \"/Users/YuLong/miniconda3/envs/py_37_ds/lib/python3.7/multiprocessing/pool.py\", line 110, in worker\n",
      "    task = get()\n",
      "  File \"/Users/YuLong/miniconda3/envs/py_37_ds/lib/python3.7/multiprocessing/pool.py\", line 110, in worker\n",
      "    task = get()\n",
      "  File \"/Users/YuLong/miniconda3/envs/py_37_ds/lib/python3.7/multiprocessing/pool.py\", line 110, in worker\n",
      "    task = get()\n",
      "  File \"/Users/YuLong/miniconda3/envs/py_37_ds/lib/python3.7/multiprocessing/pool.py\", line 121, in worker\n",
      "    result = (True, func(*args, **kwds))\n",
      "  File \"/Users/YuLong/miniconda3/envs/py_37_ds/lib/python3.7/multiprocessing/pool.py\", line 110, in worker\n",
      "    task = get()\n",
      "  File \"/Users/YuLong/miniconda3/envs/py_37_ds/lib/python3.7/multiprocessing/queues.py\", line 351, in get\n",
      "    with self._rlock:\n",
      "  File \"/Users/YuLong/miniconda3/envs/py_37_ds/lib/python3.7/multiprocessing/queues.py\", line 351, in get\n",
      "    with self._rlock:\n",
      "  File \"/Users/YuLong/miniconda3/envs/py_37_ds/lib/python3.7/multiprocessing/queues.py\", line 352, in get\n",
      "    res = self._reader.recv_bytes()\n",
      "  File \"/Users/YuLong/miniconda3/envs/py_37_ds/lib/python3.7/multiprocessing/queues.py\", line 351, in get\n",
      "    with self._rlock:\n",
      "  File \"/Users/YuLong/miniconda3/envs/py_37_ds/lib/python3.7/multiprocessing/queues.py\", line 351, in get\n",
      "    with self._rlock:\n",
      "  File \"/Users/YuLong/miniconda3/envs/py_37_ds/lib/python3.7/multiprocessing/queues.py\", line 351, in get\n",
      "    with self._rlock:\n",
      "  File \"/Users/YuLong/miniconda3/envs/py_37_ds/lib/python3.7/multiprocessing/synchronize.py\", line 95, in __enter__\n",
      "    return self._semlock.__enter__()\n",
      "  File \"/Users/YuLong/miniconda3/envs/py_37_ds/lib/python3.7/multiprocessing/pool.py\", line 44, in mapstar\n",
      "    return list(map(*args))\n"
     ]
    },
    {
     "name": "stderr",
     "output_type": "stream",
     "text": [
      "  File \"/Users/YuLong/miniconda3/envs/py_37_ds/lib/python3.7/multiprocessing/synchronize.py\", line 95, in __enter__\n",
      "    return self._semlock.__enter__()\n",
      "  File \"/Users/YuLong/miniconda3/envs/py_37_ds/lib/python3.7/multiprocessing/queues.py\", line 354, in get\n",
      "    return _ForkingPickler.loads(res)\n",
      "  File \"/Users/YuLong/miniconda3/envs/py_37_ds/lib/python3.7/multiprocessing/connection.py\", line 216, in recv_bytes\n",
      "    buf = self._recv_bytes(maxlength)\n",
      "  File \"/Users/YuLong/miniconda3/envs/py_37_ds/lib/python3.7/multiprocessing/synchronize.py\", line 95, in __enter__\n",
      "    return self._semlock.__enter__()\n",
      "  File \"/Users/YuLong/miniconda3/envs/py_37_ds/lib/python3.7/multiprocessing/synchronize.py\", line 95, in __enter__\n",
      "    return self._semlock.__enter__()\n",
      "  File \"/Users/YuLong/miniconda3/envs/py_37_ds/lib/python3.7/multiprocessing/synchronize.py\", line 95, in __enter__\n",
      "    return self._semlock.__enter__()\n",
      "  File \"/Users/YuLong/Desktop/Working_Area/recsys_im/RecModel/RecModel/base_model.py\", line 110, in compute_hit\n",
      "    items=rand_items, users=user, topn=topn.max())\n",
      "KeyboardInterrupt\n",
      "KeyboardInterrupt\n",
      "  File \"/Users/YuLong/miniconda3/envs/py_37_ds/lib/python3.7/site-packages/scipy/sparse/base.py\", line 673, in __getattr__\n",
      "    def __getattr__(self, attr):\n",
      "  File \"/Users/YuLong/miniconda3/envs/py_37_ds/lib/python3.7/multiprocessing/connection.py\", line 407, in _recv_bytes\n",
      "    buf = self._recv(4)\n",
      "KeyboardInterrupt\n",
      "KeyboardInterrupt\n",
      "KeyboardInterrupt\n",
      "  File \"/Users/YuLong/Desktop/Working_Area/recsys_im/RecModel/RecModel/recwalk_model.py\", line 142, in rank\n",
      "    user_vec = scipy.sparse.csr_matrix.dot(self.P, user_vec)\n",
      "KeyboardInterrupt\n",
      "  File \"/Users/YuLong/miniconda3/envs/py_37_ds/lib/python3.7/multiprocessing/connection.py\", line 379, in _recv\n",
      "    chunk = read(handle, remaining)\n",
      "  File \"/Users/YuLong/miniconda3/envs/py_37_ds/lib/python3.7/site-packages/scipy/sparse/base.py\", line 359, in dot\n",
      "    return self * other\n",
      "  File \"/Users/YuLong/miniconda3/envs/py_37_ds/lib/python3.7/site-packages/scipy/sparse/base.py\", line 467, in __mul__\n",
      "    return self._mul_vector(other)\n",
      "KeyboardInterrupt\n",
      "  File \"/Users/YuLong/miniconda3/envs/py_37_ds/lib/python3.7/site-packages/scipy/sparse/compressed.py\", line 476, in _mul_vector\n",
      "    fn(M, N, self.indptr, self.indices, self.data, other, result)\n",
      "KeyboardInterrupt\n",
      "ERROR:root:Internal Python error in the inspect module.\n",
      "Below is the traceback from this internal error.\n",
      "\n"
     ]
    },
    {
     "name": "stdout",
     "output_type": "stream",
     "text": [
      "Traceback (most recent call last):\n",
      "  File \"/Users/YuLong/miniconda3/envs/py_37_ds/lib/python3.7/site-packages/IPython/core/interactiveshell.py\", line 3417, in run_code\n",
      "    exec(code_obj, self.user_global_ns, self.user_ns)\n",
      "  File \"<ipython-input-14-c7df18e0fb2c>\", line 22, in <module>\n",
      "    random_state=2)\n",
      "  File \"/Users/YuLong/Desktop/Working_Area/recsys_im/RecModel/RecModel/base_model.py\", line 189, in eval_topn\n",
      "    (elem for elem in iter_rows_two_matrices(super_mat, test_mat))))).sum(axis=0)\n",
      "  File \"/Users/YuLong/miniconda3/envs/py_37_ds/lib/python3.7/multiprocessing/pool.py\", line 268, in map\n",
      "    return self._map_async(func, iterable, mapstar, chunksize).get()\n",
      "  File \"/Users/YuLong/miniconda3/envs/py_37_ds/lib/python3.7/multiprocessing/pool.py\", line 651, in get\n",
      "    self.wait(timeout)\n",
      "  File \"/Users/YuLong/miniconda3/envs/py_37_ds/lib/python3.7/multiprocessing/pool.py\", line 648, in wait\n",
      "    self._event.wait(timeout)\n",
      "  File \"/Users/YuLong/miniconda3/envs/py_37_ds/lib/python3.7/threading.py\", line 552, in wait\n",
      "    signaled = self._cond.wait(timeout)\n",
      "  File \"/Users/YuLong/miniconda3/envs/py_37_ds/lib/python3.7/threading.py\", line 296, in wait\n",
      "    waiter.acquire()\n",
      "KeyboardInterrupt\n",
      "\n",
      "During handling of the above exception, another exception occurred:\n",
      "\n",
      "Traceback (most recent call last):\n",
      "  File \"/Users/YuLong/miniconda3/envs/py_37_ds/lib/python3.7/site-packages/IPython/core/interactiveshell.py\", line 2044, in showtraceback\n",
      "    stb = value._render_traceback_()\n",
      "AttributeError: 'KeyboardInterrupt' object has no attribute '_render_traceback_'\n",
      "\n",
      "During handling of the above exception, another exception occurred:\n",
      "\n",
      "Traceback (most recent call last):\n",
      "  File \"/Users/YuLong/miniconda3/envs/py_37_ds/lib/python3.7/site-packages/IPython/core/ultratb.py\", line 1169, in get_records\n",
      "    return _fixed_getinnerframes(etb, number_of_lines_of_context, tb_offset)\n",
      "  File \"/Users/YuLong/miniconda3/envs/py_37_ds/lib/python3.7/site-packages/IPython/core/ultratb.py\", line 316, in wrapped\n",
      "    return f(*args, **kwargs)\n",
      "  File \"/Users/YuLong/miniconda3/envs/py_37_ds/lib/python3.7/site-packages/IPython/core/ultratb.py\", line 350, in _fixed_getinnerframes\n",
      "    records = fix_frame_records_filenames(inspect.getinnerframes(etb, context))\n",
      "  File \"/Users/YuLong/miniconda3/envs/py_37_ds/lib/python3.7/inspect.py\", line 1502, in getinnerframes\n",
      "    frameinfo = (tb.tb_frame,) + getframeinfo(tb, context)\n",
      "  File \"/Users/YuLong/miniconda3/envs/py_37_ds/lib/python3.7/inspect.py\", line 1460, in getframeinfo\n",
      "    filename = getsourcefile(frame) or getfile(frame)\n",
      "  File \"/Users/YuLong/miniconda3/envs/py_37_ds/lib/python3.7/inspect.py\", line 696, in getsourcefile\n",
      "    if getattr(getmodule(object, filename), '__loader__', None) is not None:\n",
      "  File \"/Users/YuLong/miniconda3/envs/py_37_ds/lib/python3.7/inspect.py\", line 742, in getmodule\n",
      "    os.path.realpath(f)] = module.__name__\n",
      "  File \"/Users/YuLong/miniconda3/envs/py_37_ds/lib/python3.7/posixpath.py\", line 395, in realpath\n",
      "    path, ok = _joinrealpath(filename[:0], filename, {})\n",
      "  File \"/Users/YuLong/miniconda3/envs/py_37_ds/lib/python3.7/posixpath.py\", line 429, in _joinrealpath\n",
      "    if not islink(newpath):\n",
      "  File \"/Users/YuLong/miniconda3/envs/py_37_ds/lib/python3.7/posixpath.py\", line 171, in islink\n",
      "    st = os.lstat(path)\n",
      "KeyboardInterrupt\n"
     ]
    },
    {
     "ename": "TypeError",
     "evalue": "object of type 'NoneType' has no len()",
     "output_type": "error",
     "traceback": [
      "\u001b[0;31m--------------------------------------------------------------\u001b[0m",
      "\u001b[0;31mKeyboardInterrupt\u001b[0m            Traceback (most recent call last)",
      "    \u001b[0;31m[... skipping hidden 1 frame]\u001b[0m\n",
      "\u001b[0;32m<ipython-input-14-c7df18e0fb2c>\u001b[0m in \u001b[0;36m<module>\u001b[0;34m\u001b[0m\n\u001b[1;32m     21\u001b[0m                                                        \u001b[0mcores\u001b[0m\u001b[0;34m=\u001b[0m\u001b[0;36m8\u001b[0m\u001b[0;34m,\u001b[0m\u001b[0;34m\u001b[0m\u001b[0;34m\u001b[0m\u001b[0m\n\u001b[0;32m---> 22\u001b[0;31m                                                        random_state=2)\n\u001b[0m\u001b[1;32m     23\u001b[0m         \u001b[0mend\u001b[0m \u001b[0;34m=\u001b[0m \u001b[0mtime\u001b[0m\u001b[0;34m.\u001b[0m\u001b[0mtime\u001b[0m\u001b[0;34m(\u001b[0m\u001b[0;34m)\u001b[0m\u001b[0;34m\u001b[0m\u001b[0;34m\u001b[0m\u001b[0m\n",
      "\u001b[0;32m~/Desktop/Working_Area/recsys_im/RecModel/RecModel/base_model.py\u001b[0m in \u001b[0;36meval_topn\u001b[0;34m(self, test_mat, train_mat, eval_mat, topn, rand_sampled_users, rand_sampled_items, cores, random_state, dtype)\u001b[0m\n\u001b[1;32m    188\u001b[0m                     (pool.map(compute_hit_args,\n\u001b[0;32m--> 189\u001b[0;31m                               (elem for elem in iter_rows_two_matrices(super_mat, test_mat))))).sum(axis=0)\n\u001b[0m\u001b[1;32m    190\u001b[0m                 \u001b[0mpool\u001b[0m\u001b[0;34m.\u001b[0m\u001b[0mclose\u001b[0m\u001b[0;34m(\u001b[0m\u001b[0;34m)\u001b[0m\u001b[0;34m\u001b[0m\u001b[0;34m\u001b[0m\u001b[0m\n",
      "\u001b[0;32m~/miniconda3/envs/py_37_ds/lib/python3.7/multiprocessing/pool.py\u001b[0m in \u001b[0;36mmap\u001b[0;34m(self, func, iterable, chunksize)\u001b[0m\n\u001b[1;32m    267\u001b[0m         '''\n\u001b[0;32m--> 268\u001b[0;31m         \u001b[0;32mreturn\u001b[0m \u001b[0mself\u001b[0m\u001b[0;34m.\u001b[0m\u001b[0m_map_async\u001b[0m\u001b[0;34m(\u001b[0m\u001b[0mfunc\u001b[0m\u001b[0;34m,\u001b[0m \u001b[0miterable\u001b[0m\u001b[0;34m,\u001b[0m \u001b[0mmapstar\u001b[0m\u001b[0;34m,\u001b[0m \u001b[0mchunksize\u001b[0m\u001b[0;34m)\u001b[0m\u001b[0;34m.\u001b[0m\u001b[0mget\u001b[0m\u001b[0;34m(\u001b[0m\u001b[0;34m)\u001b[0m\u001b[0;34m\u001b[0m\u001b[0;34m\u001b[0m\u001b[0m\n\u001b[0m\u001b[1;32m    269\u001b[0m \u001b[0;34m\u001b[0m\u001b[0m\n",
      "\u001b[0;32m~/miniconda3/envs/py_37_ds/lib/python3.7/multiprocessing/pool.py\u001b[0m in \u001b[0;36mget\u001b[0;34m(self, timeout)\u001b[0m\n\u001b[1;32m    650\u001b[0m     \u001b[0;32mdef\u001b[0m \u001b[0mget\u001b[0m\u001b[0;34m(\u001b[0m\u001b[0mself\u001b[0m\u001b[0;34m,\u001b[0m \u001b[0mtimeout\u001b[0m\u001b[0;34m=\u001b[0m\u001b[0;32mNone\u001b[0m\u001b[0;34m)\u001b[0m\u001b[0;34m:\u001b[0m\u001b[0;34m\u001b[0m\u001b[0;34m\u001b[0m\u001b[0m\n\u001b[0;32m--> 651\u001b[0;31m         \u001b[0mself\u001b[0m\u001b[0;34m.\u001b[0m\u001b[0mwait\u001b[0m\u001b[0;34m(\u001b[0m\u001b[0mtimeout\u001b[0m\u001b[0;34m)\u001b[0m\u001b[0;34m\u001b[0m\u001b[0;34m\u001b[0m\u001b[0m\n\u001b[0m\u001b[1;32m    652\u001b[0m         \u001b[0;32mif\u001b[0m \u001b[0;32mnot\u001b[0m \u001b[0mself\u001b[0m\u001b[0;34m.\u001b[0m\u001b[0mready\u001b[0m\u001b[0;34m(\u001b[0m\u001b[0;34m)\u001b[0m\u001b[0;34m:\u001b[0m\u001b[0;34m\u001b[0m\u001b[0;34m\u001b[0m\u001b[0m\n",
      "\u001b[0;32m~/miniconda3/envs/py_37_ds/lib/python3.7/multiprocessing/pool.py\u001b[0m in \u001b[0;36mwait\u001b[0;34m(self, timeout)\u001b[0m\n\u001b[1;32m    647\u001b[0m     \u001b[0;32mdef\u001b[0m \u001b[0mwait\u001b[0m\u001b[0;34m(\u001b[0m\u001b[0mself\u001b[0m\u001b[0;34m,\u001b[0m \u001b[0mtimeout\u001b[0m\u001b[0;34m=\u001b[0m\u001b[0;32mNone\u001b[0m\u001b[0;34m)\u001b[0m\u001b[0;34m:\u001b[0m\u001b[0;34m\u001b[0m\u001b[0;34m\u001b[0m\u001b[0m\n\u001b[0;32m--> 648\u001b[0;31m         \u001b[0mself\u001b[0m\u001b[0;34m.\u001b[0m\u001b[0m_event\u001b[0m\u001b[0;34m.\u001b[0m\u001b[0mwait\u001b[0m\u001b[0;34m(\u001b[0m\u001b[0mtimeout\u001b[0m\u001b[0;34m)\u001b[0m\u001b[0;34m\u001b[0m\u001b[0;34m\u001b[0m\u001b[0m\n\u001b[0m\u001b[1;32m    649\u001b[0m \u001b[0;34m\u001b[0m\u001b[0m\n",
      "\u001b[0;32m~/miniconda3/envs/py_37_ds/lib/python3.7/threading.py\u001b[0m in \u001b[0;36mwait\u001b[0;34m(self, timeout)\u001b[0m\n\u001b[1;32m    551\u001b[0m             \u001b[0;32mif\u001b[0m \u001b[0;32mnot\u001b[0m \u001b[0msignaled\u001b[0m\u001b[0;34m:\u001b[0m\u001b[0;34m\u001b[0m\u001b[0;34m\u001b[0m\u001b[0m\n\u001b[0;32m--> 552\u001b[0;31m                 \u001b[0msignaled\u001b[0m \u001b[0;34m=\u001b[0m \u001b[0mself\u001b[0m\u001b[0;34m.\u001b[0m\u001b[0m_cond\u001b[0m\u001b[0;34m.\u001b[0m\u001b[0mwait\u001b[0m\u001b[0;34m(\u001b[0m\u001b[0mtimeout\u001b[0m\u001b[0;34m)\u001b[0m\u001b[0;34m\u001b[0m\u001b[0;34m\u001b[0m\u001b[0m\n\u001b[0m\u001b[1;32m    553\u001b[0m             \u001b[0;32mreturn\u001b[0m \u001b[0msignaled\u001b[0m\u001b[0;34m\u001b[0m\u001b[0;34m\u001b[0m\u001b[0m\n",
      "\u001b[0;32m~/miniconda3/envs/py_37_ds/lib/python3.7/threading.py\u001b[0m in \u001b[0;36mwait\u001b[0;34m(self, timeout)\u001b[0m\n\u001b[1;32m    295\u001b[0m             \u001b[0;32mif\u001b[0m \u001b[0mtimeout\u001b[0m \u001b[0;32mis\u001b[0m \u001b[0;32mNone\u001b[0m\u001b[0;34m:\u001b[0m\u001b[0;34m\u001b[0m\u001b[0;34m\u001b[0m\u001b[0m\n\u001b[0;32m--> 296\u001b[0;31m                 \u001b[0mwaiter\u001b[0m\u001b[0;34m.\u001b[0m\u001b[0macquire\u001b[0m\u001b[0;34m(\u001b[0m\u001b[0;34m)\u001b[0m\u001b[0;34m\u001b[0m\u001b[0;34m\u001b[0m\u001b[0m\n\u001b[0m\u001b[1;32m    297\u001b[0m                 \u001b[0mgotit\u001b[0m \u001b[0;34m=\u001b[0m \u001b[0;32mTrue\u001b[0m\u001b[0;34m\u001b[0m\u001b[0;34m\u001b[0m\u001b[0m\n",
      "\u001b[0;31mKeyboardInterrupt\u001b[0m: ",
      "\nDuring handling of the above exception, another exception occurred:\n",
      "\u001b[0;31mAttributeError\u001b[0m               Traceback (most recent call last)",
      "\u001b[0;32m~/miniconda3/envs/py_37_ds/lib/python3.7/site-packages/IPython/core/interactiveshell.py\u001b[0m in \u001b[0;36mshowtraceback\u001b[0;34m(self, exc_tuple, filename, tb_offset, exception_only, running_compiled_code)\u001b[0m\n\u001b[1;32m   2043\u001b[0m                         \u001b[0;31m# in the engines. This should return a list of strings.\u001b[0m\u001b[0;34m\u001b[0m\u001b[0;34m\u001b[0m\u001b[0;34m\u001b[0m\u001b[0m\n\u001b[0;32m-> 2044\u001b[0;31m                         \u001b[0mstb\u001b[0m \u001b[0;34m=\u001b[0m \u001b[0mvalue\u001b[0m\u001b[0;34m.\u001b[0m\u001b[0m_render_traceback_\u001b[0m\u001b[0;34m(\u001b[0m\u001b[0;34m)\u001b[0m\u001b[0;34m\u001b[0m\u001b[0;34m\u001b[0m\u001b[0m\n\u001b[0m\u001b[1;32m   2045\u001b[0m                     \u001b[0;32mexcept\u001b[0m \u001b[0mException\u001b[0m\u001b[0;34m:\u001b[0m\u001b[0;34m\u001b[0m\u001b[0;34m\u001b[0m\u001b[0m\n",
      "\u001b[0;31mAttributeError\u001b[0m: 'KeyboardInterrupt' object has no attribute '_render_traceback_'",
      "\nDuring handling of the above exception, another exception occurred:\n",
      "\u001b[0;31mTypeError\u001b[0m                    Traceback (most recent call last)",
      "    \u001b[0;31m[... skipping hidden 1 frame]\u001b[0m\n",
      "\u001b[0;32m~/miniconda3/envs/py_37_ds/lib/python3.7/site-packages/IPython/core/interactiveshell.py\u001b[0m in \u001b[0;36mshowtraceback\u001b[0;34m(self, exc_tuple, filename, tb_offset, exception_only, running_compiled_code)\u001b[0m\n\u001b[1;32m   2045\u001b[0m                     \u001b[0;32mexcept\u001b[0m \u001b[0mException\u001b[0m\u001b[0;34m:\u001b[0m\u001b[0;34m\u001b[0m\u001b[0;34m\u001b[0m\u001b[0m\n\u001b[1;32m   2046\u001b[0m                         stb = self.InteractiveTB.structured_traceback(etype,\n\u001b[0;32m-> 2047\u001b[0;31m                                             value, tb, tb_offset=tb_offset)\n\u001b[0m\u001b[1;32m   2048\u001b[0m \u001b[0;34m\u001b[0m\u001b[0m\n\u001b[1;32m   2049\u001b[0m                     \u001b[0mself\u001b[0m\u001b[0;34m.\u001b[0m\u001b[0m_showtraceback\u001b[0m\u001b[0;34m(\u001b[0m\u001b[0metype\u001b[0m\u001b[0;34m,\u001b[0m \u001b[0mvalue\u001b[0m\u001b[0;34m,\u001b[0m \u001b[0mstb\u001b[0m\u001b[0;34m)\u001b[0m\u001b[0;34m\u001b[0m\u001b[0;34m\u001b[0m\u001b[0m\n",
      "\u001b[0;32m~/miniconda3/envs/py_37_ds/lib/python3.7/site-packages/IPython/core/ultratb.py\u001b[0m in \u001b[0;36mstructured_traceback\u001b[0;34m(self, etype, value, tb, tb_offset, number_of_lines_of_context)\u001b[0m\n\u001b[1;32m   1434\u001b[0m             \u001b[0mself\u001b[0m\u001b[0;34m.\u001b[0m\u001b[0mtb\u001b[0m \u001b[0;34m=\u001b[0m \u001b[0mtb\u001b[0m\u001b[0;34m\u001b[0m\u001b[0;34m\u001b[0m\u001b[0m\n\u001b[1;32m   1435\u001b[0m         return FormattedTB.structured_traceback(\n\u001b[0;32m-> 1436\u001b[0;31m             self, etype, value, tb, tb_offset, number_of_lines_of_context)\n\u001b[0m\u001b[1;32m   1437\u001b[0m \u001b[0;34m\u001b[0m\u001b[0m\n\u001b[1;32m   1438\u001b[0m \u001b[0;34m\u001b[0m\u001b[0m\n",
      "\u001b[0;32m~/miniconda3/envs/py_37_ds/lib/python3.7/site-packages/IPython/core/ultratb.py\u001b[0m in \u001b[0;36mstructured_traceback\u001b[0;34m(self, etype, value, tb, tb_offset, number_of_lines_of_context)\u001b[0m\n\u001b[1;32m   1334\u001b[0m             \u001b[0;31m# Verbose modes need a full traceback\u001b[0m\u001b[0;34m\u001b[0m\u001b[0;34m\u001b[0m\u001b[0;34m\u001b[0m\u001b[0m\n\u001b[1;32m   1335\u001b[0m             return VerboseTB.structured_traceback(\n\u001b[0;32m-> 1336\u001b[0;31m                 \u001b[0mself\u001b[0m\u001b[0;34m,\u001b[0m \u001b[0metype\u001b[0m\u001b[0;34m,\u001b[0m \u001b[0mvalue\u001b[0m\u001b[0;34m,\u001b[0m \u001b[0mtb\u001b[0m\u001b[0;34m,\u001b[0m \u001b[0mtb_offset\u001b[0m\u001b[0;34m,\u001b[0m \u001b[0mnumber_of_lines_of_context\u001b[0m\u001b[0;34m\u001b[0m\u001b[0;34m\u001b[0m\u001b[0m\n\u001b[0m\u001b[1;32m   1337\u001b[0m             )\n\u001b[1;32m   1338\u001b[0m         \u001b[0;32melif\u001b[0m \u001b[0mmode\u001b[0m \u001b[0;34m==\u001b[0m \u001b[0;34m'Minimal'\u001b[0m\u001b[0;34m:\u001b[0m\u001b[0;34m\u001b[0m\u001b[0;34m\u001b[0m\u001b[0m\n",
      "\u001b[0;32m~/miniconda3/envs/py_37_ds/lib/python3.7/site-packages/IPython/core/ultratb.py\u001b[0m in \u001b[0;36mstructured_traceback\u001b[0;34m(self, etype, evalue, etb, tb_offset, number_of_lines_of_context)\u001b[0m\n\u001b[1;32m   1191\u001b[0m \u001b[0;34m\u001b[0m\u001b[0m\n\u001b[1;32m   1192\u001b[0m         formatted_exception = self.format_exception_as_a_whole(etype, evalue, etb, number_of_lines_of_context,\n\u001b[0;32m-> 1193\u001b[0;31m                                                                tb_offset)\n\u001b[0m\u001b[1;32m   1194\u001b[0m \u001b[0;34m\u001b[0m\u001b[0m\n\u001b[1;32m   1195\u001b[0m         \u001b[0mcolors\u001b[0m \u001b[0;34m=\u001b[0m \u001b[0mself\u001b[0m\u001b[0;34m.\u001b[0m\u001b[0mColors\u001b[0m  \u001b[0;31m# just a shorthand + quicker name lookup\u001b[0m\u001b[0;34m\u001b[0m\u001b[0;34m\u001b[0m\u001b[0m\n",
      "\u001b[0;32m~/miniconda3/envs/py_37_ds/lib/python3.7/site-packages/IPython/core/ultratb.py\u001b[0m in \u001b[0;36mformat_exception_as_a_whole\u001b[0;34m(self, etype, evalue, etb, number_of_lines_of_context, tb_offset)\u001b[0m\n\u001b[1;32m   1148\u001b[0m \u001b[0;34m\u001b[0m\u001b[0m\n\u001b[1;32m   1149\u001b[0m \u001b[0;34m\u001b[0m\u001b[0m\n\u001b[0;32m-> 1150\u001b[0;31m         \u001b[0mlast_unique\u001b[0m\u001b[0;34m,\u001b[0m \u001b[0mrecursion_repeat\u001b[0m \u001b[0;34m=\u001b[0m \u001b[0mfind_recursion\u001b[0m\u001b[0;34m(\u001b[0m\u001b[0morig_etype\u001b[0m\u001b[0;34m,\u001b[0m \u001b[0mevalue\u001b[0m\u001b[0;34m,\u001b[0m \u001b[0mrecords\u001b[0m\u001b[0;34m)\u001b[0m\u001b[0;34m\u001b[0m\u001b[0;34m\u001b[0m\u001b[0m\n\u001b[0m\u001b[1;32m   1151\u001b[0m \u001b[0;34m\u001b[0m\u001b[0m\n\u001b[1;32m   1152\u001b[0m         \u001b[0mframes\u001b[0m \u001b[0;34m=\u001b[0m \u001b[0mself\u001b[0m\u001b[0;34m.\u001b[0m\u001b[0mformat_records\u001b[0m\u001b[0;34m(\u001b[0m\u001b[0mrecords\u001b[0m\u001b[0;34m,\u001b[0m \u001b[0mlast_unique\u001b[0m\u001b[0;34m,\u001b[0m \u001b[0mrecursion_repeat\u001b[0m\u001b[0;34m)\u001b[0m\u001b[0;34m\u001b[0m\u001b[0;34m\u001b[0m\u001b[0m\n",
      "\u001b[0;32m~/miniconda3/envs/py_37_ds/lib/python3.7/site-packages/IPython/core/ultratb.py\u001b[0m in \u001b[0;36mfind_recursion\u001b[0;34m(etype, value, records)\u001b[0m\n\u001b[1;32m    449\u001b[0m     \u001b[0;31m# first frame (from in to out) that looks different.\u001b[0m\u001b[0;34m\u001b[0m\u001b[0;34m\u001b[0m\u001b[0;34m\u001b[0m\u001b[0m\n\u001b[1;32m    450\u001b[0m     \u001b[0;32mif\u001b[0m \u001b[0;32mnot\u001b[0m \u001b[0mis_recursion_error\u001b[0m\u001b[0;34m(\u001b[0m\u001b[0metype\u001b[0m\u001b[0;34m,\u001b[0m \u001b[0mvalue\u001b[0m\u001b[0;34m,\u001b[0m \u001b[0mrecords\u001b[0m\u001b[0;34m)\u001b[0m\u001b[0;34m:\u001b[0m\u001b[0;34m\u001b[0m\u001b[0;34m\u001b[0m\u001b[0m\n\u001b[0;32m--> 451\u001b[0;31m         \u001b[0;32mreturn\u001b[0m \u001b[0mlen\u001b[0m\u001b[0;34m(\u001b[0m\u001b[0mrecords\u001b[0m\u001b[0;34m)\u001b[0m\u001b[0;34m,\u001b[0m \u001b[0;36m0\u001b[0m\u001b[0;34m\u001b[0m\u001b[0;34m\u001b[0m\u001b[0m\n\u001b[0m\u001b[1;32m    452\u001b[0m \u001b[0;34m\u001b[0m\u001b[0m\n\u001b[1;32m    453\u001b[0m     \u001b[0;31m# Select filename, lineno, func_name to track frames with\u001b[0m\u001b[0;34m\u001b[0m\u001b[0;34m\u001b[0m\u001b[0;34m\u001b[0m\u001b[0m\n",
      "\u001b[0;31mTypeError\u001b[0m: object of type 'NoneType' has no len()"
     ]
    }
   ],
   "source": [
    "for phi in [1, 0.5]:\n",
    "    for steps in [3, 6, 9, 12,15,18,21]:\n",
    "        recwalk_model = RecModel.RecWalk(\n",
    "        num_items=num_items, num_users=num_users,\n",
    "        k_steps=steps,\n",
    "        eval_method='k_step',\n",
    "        slim_W=slim_W\n",
    "        )\n",
    "        print(f'steps {steps}')\n",
    "        recwalk_model.train(train_mat=train_data,\n",
    "                            alpha=4.427181, l1_ratio=0.318495,\n",
    "                            phi=phi,\n",
    "                            max_iter=27, tolerance=0.006841,\n",
    "                            cores=8, verbose=True)\n",
    "\n",
    "        start = time.time()\n",
    "        recwalk_model_performance = recwalk_model.eval_topn(test_mat=test_data,\n",
    "                                                      topn = np.array([10]),\n",
    "                                                      rand_sampled_users=1000,\n",
    "                                                      rand_sampled_items=1000,\n",
    "                                                       cores=8,\n",
    "                                                       random_state=2)\n",
    "        end = time.time()\n",
    "        print('recall : ', recwalk_model_performance)\n",
    "        print(f'eval recall time : {end - start} s')\n",
    "\n",
    "\n",
    "        start = time.time()\n",
    "        topn_dict = [10]\n",
    "\n",
    "        coverage_dict = {}\n",
    "        for topn in topn_dict:\n",
    "            recommendation_frequencies = RecModel.test_coverage(recwalk_model, test_data,\n",
    "                                                                topN=topn,\n",
    "                                                                rand_sampled_users=1000,\n",
    "                                                                random_state=2)\n",
    "            coverage = (recommendation_frequencies > 0).mean()\n",
    "            coverage_dict[f'Coverage@{topn}'] = coverage\n",
    "\n",
    "        end = time.time()\n",
    "        print(f'eval coverage time : {end - start} s')\n",
    "        print('coverage : ', coverage_dict)"
   ]
  },
  {
   "cell_type": "code",
   "execution_count": null,
   "metadata": {},
   "outputs": [],
   "source": [
    "# collect eval time for better experiment run time prediction\n",
    "# total time, this depends on the steps\n",
    "# 1376 s -> 20mins"
   ]
  }
 ],
 "metadata": {
  "file_extension": ".py",
  "kernelspec": {
   "display_name": "Python 3",
   "language": "python",
   "name": "python3"
  },
  "language_info": {
   "codemirror_mode": {
    "name": "ipython",
    "version": 3
   },
   "file_extension": ".py",
   "mimetype": "text/x-python",
   "name": "python",
   "nbconvert_exporter": "python",
   "pygments_lexer": "ipython3",
   "version": "3.7.6"
  },
  "mimetype": "text/x-python",
  "name": "python",
  "npconvert_exporter": "python",
  "pygments_lexer": "ipython3",
  "toc": {
   "base_numbering": 1,
   "nav_menu": {},
   "number_sections": true,
   "sideBar": true,
   "skip_h1_title": false,
   "title_cell": "Table of Contents",
   "title_sidebar": "Contents",
   "toc_cell": false,
   "toc_position": {},
   "toc_section_display": true,
   "toc_window_display": false
  },
  "version": 3
 },
 "nbformat": 4,
 "nbformat_minor": 2
}
