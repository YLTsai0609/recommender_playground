{
 "cells": [
  {
   "cell_type": "markdown",
   "metadata": {},
   "source": [
    "# Example: The RecModel package for implicit feedback\n",
    "\n",
    "## Get the Data\n",
    "In the following we test the SLIM model based on the Netflix dataset. As all models in the RecModel package use csr matrix as input, we need to download the Netflix dataset and convert it to csr.\n",
    "\n",
    "Fortunately, I created a small repo that does exatly that: [Data](https://github.com/titoeb/ImplicitFeedback).\n",
    "\n",
    "Do the following steps to create the Netflix dataset:\n",
    "\n",
    "* Clone the Repository\n",
    "    ```\n",
    "    git clone https://github.com/titoeb/ImplicitFeedback\n",
    "    ```\n",
    "\n",
    "* Change into the repository:\n",
    "    ```\n",
    "    cd ImplicitFeedback\n",
    "    ```\n",
    "* Allow execution of the Bash Script:\n",
    "    ```\n",
    "    chmod +x Create_Data\n",
    "    ```\n",
    "\n",
    "* Execute the Bash Script. This may take some time as the Netflix, ML20 and Million Song Dataset is download.\n",
    "    ```\n",
    "    ./Create_Data\n",
    "    ```\n",
    "\n",
    "* Now the data is downloaded. To create the CSR matrix run the Netflix.py script.\n",
    "    ```\n",
    "    python Netflix.py\n",
    "    ```\n",
    "* Now you simply copy the Netflix.npz file into the data folder in your directory of the RecModel Package. You can delete the Implicit Feedback Data folder.\n"
   ]
  },
  {
   "cell_type": "markdown",
   "metadata": {},
   "source": [
    "To import the data, fit the SLIM model and analyze the results we need the following packages:"
   ]
  },
  {
   "cell_type": "code",
   "execution_count": 68,
   "metadata": {
    "ExecuteTime": {
     "end_time": "2021-02-15T17:51:32.620752Z",
     "start_time": "2021-02-15T17:51:32.603679Z"
    }
   },
   "outputs": [
    {
     "data": {
      "text/plain": [
       "['ml_100k_tst.npz', 'ml_100k_trn.npz', 'ML_20M.npz']"
      ]
     },
     "execution_count": 68,
     "metadata": {},
     "output_type": "execute_result"
    }
   ],
   "source": [
    "import scipy.sparse\n",
    "import numpy as np\n",
    "import matplotlib.pyplot as plt\n",
    "import os\n",
    "import RecModel\n",
    "import time\n",
    "plt.style.use('ggplot')\n",
    "os.listdir('./data')"
   ]
  },
  {
   "cell_type": "markdown",
   "metadata": {},
   "source": [
    "The Recmodel package implements the following models:\n",
    "\n",
    "* [Neighbor](https://dl.acm.org/doi/10.1145/371920.372071): RecModel.Neighborhood\n",
    "\n",
    "* [SLIM](https://dl.acm.org/doi/10.1109/ICDM.2011.134): RecModel.SLIM\n",
    "\n",
    "* [VAE](https://dl.acm.org/doi/abs/10.1145/3178876.3186150): RecModel.VAE\n",
    "\n",
    "* [EASE](https://dl.acm.org/doi/abs/10.1145/3308558.3313710): RecModel.EASE\n",
    "\n",
    "* [WMF](https://dl.acm.org/doi/10.1109/ICDM.2008.22): RecModel.WMF\n",
    "\n",
    "* [RecWalk](https://dl.acm.org/doi/abs/10.1145/3289600.3291016): RecModel.RecWalk\n",
    "\n",
    "All these models have different hyper parameters, for more details take a look in the Documentation of the individual models."
   ]
  },
  {
   "cell_type": "markdown",
   "metadata": {},
   "source": [
    "Before we fit any models we need to load the netflix data. To speed up computation, we only use the first 10000 users and the first 2500 items.\n",
    "\n",
    "* we pick user = 20, item = 100 here"
   ]
  },
  {
   "cell_type": "code",
   "execution_count": 86,
   "metadata": {
    "ExecuteTime": {
     "end_time": "2021-02-15T17:54:31.739563Z",
     "start_time": "2021-02-15T17:54:31.736096Z"
    }
   },
   "outputs": [],
   "source": [
    "num_users = 10000\n",
    "num_items = 2500"
   ]
  },
  {
   "cell_type": "code",
   "execution_count": 87,
   "metadata": {
    "ExecuteTime": {
     "end_time": "2021-02-15T17:54:32.233424Z",
     "start_time": "2021-02-15T17:54:31.916993Z"
    }
   },
   "outputs": [],
   "source": [
    "movielens_20m = scipy.sparse.load_npz('data/ML_20M.npz')[:num_users, :num_items]\n",
    "\n",
    "num_users, num_items = movielens_20m.shape"
   ]
  },
  {
   "cell_type": "markdown",
   "metadata": {},
   "source": [
    "And split it into train and test:"
   ]
  },
  {
   "cell_type": "code",
   "execution_count": 88,
   "metadata": {
    "ExecuteTime": {
     "end_time": "2021-02-15T17:54:32.313360Z",
     "start_time": "2021-02-15T17:54:32.268322Z"
    }
   },
   "outputs": [],
   "source": [
    "train_data, test_data = RecModel.train_test_split_sparse_mat(movielens_20m)"
   ]
  },
  {
   "cell_type": "code",
   "execution_count": 89,
   "metadata": {
    "ExecuteTime": {
     "end_time": "2021-02-15T17:54:32.460983Z",
     "start_time": "2021-02-15T17:54:32.455619Z"
    }
   },
   "outputs": [
    {
     "data": {
      "text/plain": [
       "(<10000x2500 sparse matrix of type '<class 'numpy.float32'>'\n",
       " \twith 500007 stored elements in Compressed Sparse Row format>,\n",
       " <10000x2500 sparse matrix of type '<class 'numpy.float32'>'\n",
       " \twith 125644 stored elements in Compressed Sparse Row format>)"
      ]
     },
     "execution_count": 89,
     "metadata": {},
     "output_type": "execute_result"
    }
   ],
   "source": [
    "# profling this\n",
    "train_data, test_data"
   ]
  },
  {
   "cell_type": "markdown",
   "metadata": {},
   "source": [
    "In this tutorial, first we are going to fit a baseline model, that predicts random items to users. Afterwards, we are going to fit the SLIM model, a regularized, linear model model.\n",
    "\n",
    "Let's start with the Baseline!"
   ]
  },
  {
   "cell_type": "markdown",
   "metadata": {},
   "source": [
    "The Naive Baseline only samples random items for every user. Therefore it does not need be trained."
   ]
  },
  {
   "cell_type": "code",
   "execution_count": 90,
   "metadata": {
    "ExecuteTime": {
     "end_time": "2021-02-15T17:54:33.335906Z",
     "start_time": "2021-02-15T17:54:33.332795Z"
    }
   },
   "outputs": [],
   "source": [
    "naive_model = RecModel.NaiveBaseline(num_items=num_items)"
   ]
  },
  {
   "cell_type": "markdown",
   "metadata": {},
   "source": [
    "Evaluate the recall@4, recall@10, recall@20 and recall@50 performance based on 1000 random items for each user:"
   ]
  },
  {
   "cell_type": "code",
   "execution_count": 91,
   "metadata": {
    "ExecuteTime": {
     "end_time": "2021-02-15T17:54:40.612819Z",
     "start_time": "2021-02-15T17:54:34.114777Z"
    }
   },
   "outputs": [],
   "source": [
    "naive_model_performance = naive_model.eval_topn(test_mat=test_data, topn = np.array([4, 10, 20, 50]), rand_sampled=1000)"
   ]
  },
  {
   "cell_type": "code",
   "execution_count": 92,
   "metadata": {
    "ExecuteTime": {
     "end_time": "2021-02-15T17:59:18.633935Z",
     "start_time": "2021-02-15T17:59:18.628536Z"
    }
   },
   "outputs": [
    {
     "name": "stdout",
     "output_type": "stream",
     "text": [
      "{'Recall@4': 0.005340485817070453, 'Recall@10': 0.013267645092483524, 'Recall@20': 0.0267501830568909, 'Recall@50': 0.06831205628601446}\n"
     ]
    }
   ],
   "source": [
    "print(naive_model_performance)"
   ]
  },
  {
   "cell_type": "markdown",
   "metadata": {},
   "source": [
    "Random sampling items of items only gets us a recall@50 of about 6.7 percent (as is reasonable when sampling 50 out of 1001 items). Let's use the SLIM model to improve the performance!"
   ]
  },
  {
   "cell_type": "code",
   "execution_count": 79,
   "metadata": {
    "ExecuteTime": {
     "end_time": "2021-02-15T17:52:35.497993Z",
     "start_time": "2021-02-15T17:52:35.441839Z"
    }
   },
   "outputs": [
    {
     "ename": "IndexError",
     "evalue": "index 1272 is out of bounds for axis 0 with size 942",
     "output_type": "error",
     "traceback": [
      "\u001b[0;31m---------------------------------------------------------------------------\u001b[0m",
      "\u001b[0;31mIndexError\u001b[0m                                Traceback (most recent call last)",
      "\u001b[0;32m<ipython-input-79-d64cbd401ef8>\u001b[0m in \u001b[0;36m<module>\u001b[0;34m\u001b[0m\n\u001b[1;32m      1\u001b[0m \u001b[0;31m# Coverage\u001b[0m\u001b[0;34m\u001b[0m\u001b[0;34m\u001b[0m\u001b[0;34m\u001b[0m\u001b[0m\n\u001b[0;32m----> 2\u001b[0;31m \u001b[0mrecommendation_frequencies\u001b[0m \u001b[0;34m=\u001b[0m \u001b[0mRecModel\u001b[0m\u001b[0;34m.\u001b[0m\u001b[0mtest_coverage\u001b[0m\u001b[0;34m(\u001b[0m\u001b[0mnaive_model\u001b[0m\u001b[0;34m,\u001b[0m \u001b[0mtrain_data\u001b[0m\u001b[0;34m,\u001b[0m \u001b[0mtopN\u001b[0m\u001b[0;34m=\u001b[0m\u001b[0;36m5\u001b[0m\u001b[0;34m)\u001b[0m\u001b[0;34m\u001b[0m\u001b[0;34m\u001b[0m\u001b[0m\n\u001b[0m\u001b[1;32m      3\u001b[0m \u001b[0;34m(\u001b[0m\u001b[0mrecommendation_frequencies\u001b[0m \u001b[0;34m>\u001b[0m \u001b[0;36m0\u001b[0m\u001b[0;34m)\u001b[0m\u001b[0;34m.\u001b[0m\u001b[0mmean\u001b[0m\u001b[0;34m(\u001b[0m\u001b[0;34m)\u001b[0m\u001b[0;34m\u001b[0m\u001b[0;34m\u001b[0m\u001b[0m\n",
      "\u001b[0;32m~/Desktop/Working_Area/recsys_im/RecModel/RecModel/utils.py\u001b[0m in \u001b[0;36mtest_coverage\u001b[0;34m(cls, Train, topN)\u001b[0m\n\u001b[1;32m     13\u001b[0m         \u001b[0mend_usr\u001b[0m \u001b[0;34m=\u001b[0m \u001b[0mTrain\u001b[0m\u001b[0;34m.\u001b[0m\u001b[0mindptr\u001b[0m\u001b[0;34m[\u001b[0m\u001b[0muser\u001b[0m\u001b[0;34m+\u001b[0m\u001b[0;36m1\u001b[0m\u001b[0;34m]\u001b[0m\u001b[0;34m\u001b[0m\u001b[0;34m\u001b[0m\u001b[0m\n\u001b[1;32m     14\u001b[0m \u001b[0;34m\u001b[0m\u001b[0m\n\u001b[0;32m---> 15\u001b[0;31m         \u001b[0mitems_to_rank\u001b[0m \u001b[0;34m=\u001b[0m \u001b[0mnp\u001b[0m\u001b[0;34m.\u001b[0m\u001b[0mdelete\u001b[0m\u001b[0;34m(\u001b[0m\u001b[0mnp\u001b[0m\u001b[0;34m.\u001b[0m\u001b[0marange\u001b[0m\u001b[0;34m(\u001b[0m\u001b[0mTrain\u001b[0m\u001b[0;34m.\u001b[0m\u001b[0mshape\u001b[0m\u001b[0;34m[\u001b[0m\u001b[0;36m1\u001b[0m\u001b[0;34m]\u001b[0m\u001b[0;34m,\u001b[0m \u001b[0mdtype\u001b[0m\u001b[0;34m=\u001b[0m\u001b[0mnp\u001b[0m\u001b[0;34m.\u001b[0m\u001b[0mint32\u001b[0m\u001b[0;34m)\u001b[0m\u001b[0;34m,\u001b[0m \u001b[0mTrain\u001b[0m\u001b[0;34m.\u001b[0m\u001b[0mindices\u001b[0m\u001b[0;34m[\u001b[0m\u001b[0mstart_usr\u001b[0m\u001b[0;34m:\u001b[0m\u001b[0mend_usr\u001b[0m\u001b[0;34m]\u001b[0m\u001b[0;34m)\u001b[0m\u001b[0;34m\u001b[0m\u001b[0;34m\u001b[0m\u001b[0m\n\u001b[0m\u001b[1;32m     16\u001b[0m         \u001b[0mranked_items\u001b[0m \u001b[0;34m=\u001b[0m \u001b[0mcls\u001b[0m\u001b[0;34m.\u001b[0m\u001b[0mrank\u001b[0m\u001b[0;34m(\u001b[0m\u001b[0musers\u001b[0m\u001b[0;34m=\u001b[0m\u001b[0muser\u001b[0m\u001b[0;34m,\u001b[0m \u001b[0mitems\u001b[0m\u001b[0;34m=\u001b[0m\u001b[0mitems_to_rank\u001b[0m\u001b[0;34m,\u001b[0m \u001b[0mtopn\u001b[0m\u001b[0;34m=\u001b[0m\u001b[0mtopN\u001b[0m\u001b[0;34m)\u001b[0m\u001b[0;34m.\u001b[0m\u001b[0mreshape\u001b[0m\u001b[0;34m(\u001b[0m\u001b[0;34m-\u001b[0m\u001b[0;36m1\u001b[0m\u001b[0;34m)\u001b[0m\u001b[0;34m\u001b[0m\u001b[0;34m\u001b[0m\u001b[0m\n\u001b[1;32m     17\u001b[0m         \u001b[0mitem_counts\u001b[0m\u001b[0;34m[\u001b[0m\u001b[0mranked_items\u001b[0m\u001b[0;34m[\u001b[0m\u001b[0;34m:\u001b[0m\u001b[0mtopN\u001b[0m\u001b[0;34m]\u001b[0m\u001b[0;34m]\u001b[0m \u001b[0;34m+=\u001b[0m \u001b[0;36m1\u001b[0m\u001b[0;34m\u001b[0m\u001b[0;34m\u001b[0m\u001b[0m\n",
      "\u001b[0;31mIndexError\u001b[0m: index 1272 is out of bounds for axis 0 with size 942"
     ]
    }
   ],
   "source": [
    "# Coverage\n",
    "recommendation_frequencies = RecModel.test_coverage(naive_model, train_data, topN=5)\n",
    "(recommendation_frequencies > 0).mean()"
   ]
  },
  {
   "cell_type": "code",
   "execution_count": 45,
   "metadata": {
    "ExecuteTime": {
     "end_time": "2021-02-14T09:37:27.728827Z",
     "start_time": "2021-02-14T09:37:27.726568Z"
    }
   },
   "outputs": [],
   "source": [
    "slim_model = RecModel.SLIM(num_items=num_items, num_users=num_users)"
   ]
  },
  {
   "cell_type": "markdown",
   "metadata": {},
   "source": [
    "The SLIM model is a  model-based collaborative filtering recommender. Therefore it needs to be trained on past interaction data. Unfortunately, the SLIM model is expensive to train and would need about an hour of training based on the full netlix dataset. To get more information about the status during training, set the verbose parameter to True! Additionally, the model has the hyper parameters alpha, l1_ratio, max_iter and tolerance. I set them to values that worked good on other datasets. To improve performance you should tune them to the netflix dataset."
   ]
  },
  {
   "cell_type": "code",
   "execution_count": 46,
   "metadata": {
    "ExecuteTime": {
     "end_time": "2021-02-14T09:38:58.849968Z",
     "start_time": "2021-02-14T09:37:28.116192Z"
    }
   },
   "outputs": [
    {
     "name": "stdout",
     "output_type": "stream",
     "text": [
      "training slim, train data (10000, 2500), time : 90.72933673858643 s\n"
     ]
    }
   ],
   "source": [
    "start = time.time()\n",
    "slim_model.train(X=train_data, alpha=4.427181, l1_ratio=0.318495, max_iter=27, tolerance=0.006841, cores=8, verbose=False)\n",
    "end = time.time()\n",
    "print(f'training slim, train data {train_data.shape}, time : {end - start} s')"
   ]
  },
  {
   "cell_type": "markdown",
   "metadata": {},
   "source": [
    "After we trained the model, we can check its performance on the test dataset:"
   ]
  },
  {
   "cell_type": "code",
   "execution_count": 57,
   "metadata": {
    "ExecuteTime": {
     "end_time": "2021-02-14T10:27:18.158620Z",
     "start_time": "2021-02-14T10:25:37.429065Z"
    }
   },
   "outputs": [],
   "source": [
    "slim_model_performance = slim_model.eval_topn(test_mat=test_data,\n",
    "                                              topn = np.array([5, 10, 20, 50]),\n",
    "                                              rand_sampled=1000)"
   ]
  },
  {
   "cell_type": "code",
   "execution_count": 58,
   "metadata": {
    "ExecuteTime": {
     "end_time": "2021-02-14T10:27:18.162996Z",
     "start_time": "2021-02-14T10:27:18.160607Z"
    }
   },
   "outputs": [
    {
     "name": "stdout",
     "output_type": "stream",
     "text": [
      "{'Recall@5': 0.10242430995511127, 'Recall@10': 0.17343446563305848, 'Recall@20': 0.2807137626945974, 'Recall@50': 0.4787574416605648}\n"
     ]
    }
   ],
   "source": [
    "print(slim_model_performance)"
   ]
  },
  {
   "cell_type": "markdown",
   "metadata": {},
   "source": [
    "The Slim model already gets a recall@4 performance of about 17.6 percent and a recall@50 performance of 71.4 percent. Finally some solid numbers!"
   ]
  },
  {
   "cell_type": "markdown",
   "metadata": {},
   "source": [
    "Finally, we might be interested into more qualitative information about the model performance. Therefore,  we compute the recommendation frequencies given the top 4 recommendation for all users:"
   ]
  },
  {
   "cell_type": "code",
   "execution_count": 59,
   "metadata": {
    "ExecuteTime": {
     "end_time": "2021-02-14T10:27:29.906750Z",
     "start_time": "2021-02-14T10:27:18.165888Z"
    }
   },
   "outputs": [],
   "source": [
    "recommendation_frequencies = RecModel.test_coverage(slim_model, train_data, topN=5)"
   ]
  },
  {
   "cell_type": "markdown",
   "metadata": {},
   "source": [
    "Unfortunately, the model does only have a cataloge coverage of about 4.6 percent:"
   ]
  },
  {
   "cell_type": "code",
   "execution_count": 60,
   "metadata": {
    "ExecuteTime": {
     "end_time": "2021-02-14T10:27:29.912483Z",
     "start_time": "2021-02-14T10:27:29.908510Z"
    }
   },
   "outputs": [
    {
     "data": {
      "text/plain": [
       "0.1083"
      ]
     },
     "execution_count": 60,
     "metadata": {},
     "output_type": "execute_result"
    }
   ],
   "source": [
    "(recommendation_frequencies > 0).mean()"
   ]
  },
  {
   "cell_type": "markdown",
   "metadata": {},
   "source": [
    "We can also plot the frequencies of the most recommended items:"
   ]
  },
  {
   "cell_type": "code",
   "execution_count": 61,
   "metadata": {
    "ExecuteTime": {
     "end_time": "2021-02-14T10:27:30.135385Z",
     "start_time": "2021-02-14T10:27:29.914187Z"
    }
   },
   "outputs": [
    {
     "data": {
      "text/plain": [
       "[<matplotlib.lines.Line2D at 0x7f989b39fd10>]"
      ]
     },
     "execution_count": 61,
     "metadata": {},
     "output_type": "execute_result"
    },
    {
     "data": {
      "image/png": "[encoded data removed]",
      "text/plain": [
       "<Figure size 1440x576 with 1 Axes>"
      ]
     },
     "metadata": {},
     "output_type": "display_data"
    }
   ],
   "source": [
    "n_items_to_plot = 1000\n",
    "\n",
    "sorted_recommendation_frequencies = np.sort(recommendation_frequencies)[::-1]\n",
    "\n",
    "fig, ax = plt.subplots(figsize=(20, 8))\n",
    "ax.plot(np.arange(0, n_items_to_plot), sorted_recommendation_frequencies[:n_items_to_plot])\n"
   ]
  },
  {
   "cell_type": "markdown",
   "metadata": {},
   "source": [
    "# slim model"
   ]
  },
  {
   "cell_type": "code",
   "execution_count": 62,
   "metadata": {
    "ExecuteTime": {
     "end_time": "2021-02-14T10:27:30.142419Z",
     "start_time": "2021-02-14T10:27:30.137061Z"
    }
   },
   "outputs": [
    {
     "name": "stdout",
     "output_type": "stream",
     "text": [
      "num_users\n",
      "10000\n",
      "\n",
      "num_items\n",
      "2500\n",
      "\n",
      "W_indptr\n",
      "(2501,)\n",
      "int32\n",
      "<class 'numpy.ndarray'>\n",
      "[     0     70    180 ... 123437 123478 123490]\n",
      "\n",
      "W_idx\n",
      "(123490,)\n",
      "int32\n",
      "<class 'numpy.ndarray'>\n",
      "[   4   45   85 ...  877  979 1650]\n",
      "\n",
      "W_data\n",
      "(123490,)\n",
      "float64\n",
      "<class 'numpy.ndarray'>\n",
      "[0.00243808 0.01447782 0.00094983 ... 0.00020872 0.00152617 0.00229902]\n",
      "\n",
      "A_indptr\n",
      "(10001,)\n",
      "int32\n",
      "<class 'numpy.ndarray'>\n",
      "[     0     68    108 ... 499876 499894 500007]\n",
      "\n",
      "A_idx\n",
      "(500007,)\n",
      "int32\n",
      "<class 'numpy.ndarray'>\n",
      "[   0    1    3 ... 2313 2327 2435]\n",
      "\n",
      "A_data\n",
      "(500007,)\n",
      "float64\n",
      "<class 'numpy.ndarray'>\n",
      "[1. 1. 1. ... 1. 1. 1.]\n",
      "\n"
     ]
    }
   ],
   "source": [
    "slim_contents = slim_model.__dict__\n",
    "\n",
    "for k, v in slim_contents.items():\n",
    "    print(k)\n",
    "    if isinstance(v, np.ndarray):\n",
    "        print(v.shape)\n",
    "        print(v.dtype)\n",
    "        print(type(v))\n",
    "    print(v)\n",
    "    print()"
   ]
  },
  {
   "cell_type": "markdown",
   "metadata": {},
   "source": [
    "## save item similarity for recwalk"
   ]
  },
  {
   "cell_type": "code",
   "execution_count": 67,
   "metadata": {
    "ExecuteTime": {
     "end_time": "2021-02-14T10:36:26.893395Z",
     "start_time": "2021-02-14T10:36:26.888429Z"
    }
   },
   "outputs": [
    {
     "data": {
      "text/plain": [
       "<2500x2500 sparse matrix of type '<class 'numpy.float64'>'\n",
       "\twith 123490 stored elements in Compressed Sparse Column format>"
      ]
     },
     "execution_count": 67,
     "metadata": {},
     "output_type": "execute_result"
    }
   ],
   "source": [
    "slim_model.W\n",
    "# scipy.sparse.save_npz('slim_w_u10000_i2500', slim_model.W)"
   ]
  },
  {
   "cell_type": "code",
   "execution_count": null,
   "metadata": {},
   "outputs": [],
   "source": []
  }
 ],
 "metadata": {
  "file_extension": ".py",
  "kernelspec": {
   "display_name": "Python 3",
   "language": "python",
   "name": "python3"
  },
  "language_info": {
   "codemirror_mode": {
    "name": "ipython",
    "version": 3
   },
   "file_extension": ".py",
   "mimetype": "text/x-python",
   "name": "python",
   "nbconvert_exporter": "python",
   "pygments_lexer": "ipython3",
   "version": "3.7.6"
  },
  "mimetype": "text/x-python",
  "name": "python",
  "npconvert_exporter": "python",
  "pygments_lexer": "ipython3",
  "toc": {
   "base_numbering": 1,
   "nav_menu": {},
   "number_sections": true,
   "sideBar": true,
   "skip_h1_title": false,
   "title_cell": "Table of Contents",
   "title_sidebar": "Contents",
   "toc_cell": false,
   "toc_position": {},
   "toc_section_display": true,
   "toc_window_display": false
  },
  "version": 3
 },
 "nbformat": 4,
 "nbformat_minor": 2
}
