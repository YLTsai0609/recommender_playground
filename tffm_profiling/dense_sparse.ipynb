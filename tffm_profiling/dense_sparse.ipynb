{
 "cells": [
  {
   "cell_type": "code",
   "execution_count": 7,
   "metadata": {
    "ExecuteTime": {
     "end_time": "2021-01-04T16:48:54.709850Z",
     "start_time": "2021-01-04T16:48:54.702691Z"
    }
   },
   "outputs": [
    {
     "name": "stdout",
     "output_type": "stream",
     "text": [
      "Add path :  ['.DS_Store', 'LICENSE', 'gpu_benchmark.ipynb', 'test.py', 'README.md', 'example.ipynb', 'yltsai', 'setup.py', '.gitignore', 'tffm', 'setup.cfg', '.ipynb_checkpoints', '.git']\n",
      "\n",
      "path pacakge path :  ['/Users/YuLong/Desktop/Working_Area/recsys_im/tffm/yltsai', '/usr/local/spark/python', '/Users/YuLong/Desktop/Working_Area/recsys_im/tffm/yltsai', '/Users/YuLong/miniconda3/envs/py_37_ds/lib/python37.zip', '/Users/YuLong/miniconda3/envs/py_37_ds/lib/python3.7', '/Users/YuLong/miniconda3/envs/py_37_ds/lib/python3.7/lib-dynload', '', '/Users/YuLong/miniconda3/envs/py_37_ds/lib/python3.7/site-packages', '/Users/YuLong/Desktop/Working_Area/DataScience_Note/demo/packaging', '/Users/YuLong/Desktop/Working_Area/pose_recognition', '/Users/YuLong/miniconda3/envs/py_37_ds/lib/python3.7/site-packages/IPython/extensions', '/Users/YuLong/.ipython', '../', '../', '../']\n",
      "tensorflow version :  1.14.0\n"
     ]
    }
   ],
   "source": [
    "import numpy as np\n",
    "import tensorflow as tf\n",
    "import time\n",
    "from tqdm import tqdm\n",
    "\n",
    "# add package to the path\n",
    "import os\n",
    "import sys\n",
    "\n",
    "SEED = 42\n",
    "\n",
    "tffm_path = '../'\n",
    "print('Add path : ', os.listdir(tffm_path))\n",
    "sys.path.append(tffm_path)\n",
    "print()\n",
    "print('path pacakge path : ', sys.path)\n",
    "\n",
    "print('tensorflow version : ', tf.__version__)"
   ]
  },
  {
   "cell_type": "code",
   "execution_count": 2,
   "metadata": {
    "ExecuteTime": {
     "end_time": "2021-01-04T16:45:20.167919Z",
     "start_time": "2021-01-04T16:45:17.338314Z"
    }
   },
   "outputs": [
    {
     "name": "stdout",
     "output_type": "stream",
     "text": [
      "-----END IMPORT MESSAGE------ \n",
      "\n",
      "\n",
      "\n",
      "WARNING:tensorflow:From <ipython-input-2-154002843113>:11: read_data_sets (from tensorflow.contrib.learn.python.learn.datasets.mnist) is deprecated and will be removed in a future version.\n",
      "Instructions for updating:\n",
      "Please use alternatives such as official/mnist/dataset.py from tensorflow/models.\n",
      "WARNING:tensorflow:From /Users/YuLong/miniconda3/envs/py_37_ds/lib/python3.7/site-packages/tensorflow/contrib/learn/python/learn/datasets/mnist.py:260: maybe_download (from tensorflow.contrib.learn.python.learn.datasets.base) is deprecated and will be removed in a future version.\n",
      "Instructions for updating:\n",
      "Please write your own downloading logic.\n",
      "WARNING:tensorflow:From /Users/YuLong/miniconda3/envs/py_37_ds/lib/python3.7/site-packages/tensorflow/contrib/learn/python/learn/datasets/mnist.py:262: extract_images (from tensorflow.contrib.learn.python.learn.datasets.mnist) is deprecated and will be removed in a future version.\n",
      "Instructions for updating:\n",
      "Please use tf.data to implement this functionality.\n",
      "Extracting MNIST_data/train-images-idx3-ubyte.gz\n",
      "WARNING:tensorflow:From /Users/YuLong/miniconda3/envs/py_37_ds/lib/python3.7/site-packages/tensorflow/contrib/learn/python/learn/datasets/mnist.py:267: extract_labels (from tensorflow.contrib.learn.python.learn.datasets.mnist) is deprecated and will be removed in a future version.\n",
      "Instructions for updating:\n",
      "Please use tf.data to implement this functionality.\n",
      "Extracting MNIST_data/train-labels-idx1-ubyte.gz\n",
      "Extracting MNIST_data/t10k-images-idx3-ubyte.gz\n",
      "Extracting MNIST_data/t10k-labels-idx1-ubyte.gz\n",
      "WARNING:tensorflow:From /Users/YuLong/miniconda3/envs/py_37_ds/lib/python3.7/site-packages/tensorflow/contrib/learn/python/learn/datasets/mnist.py:290: DataSet.__init__ (from tensorflow.contrib.learn.python.learn.datasets.mnist) is deprecated and will be removed in a future version.\n",
      "Instructions for updating:\n",
      "Please use alternatives such as official/mnist/dataset.py from tensorflow/models.\n",
      "Dataset shape: (10625, 784)\n",
      "Non-zeros rate: 0.04034\n",
      "Classes balance: 0.469 / 0.531\n"
     ]
    }
   ],
   "source": [
    "from tensorflow.examples.tutorials.mnist import input_data\n",
    "# from sklearn.datasets import fetch_mldata\n",
    "from sklearn.datasets import fetch_openml\n",
    "from sklearn.preprocessing import scale\n",
    "from sklearn.model_selection import train_test_split\n",
    "from sklearn.metrics import roc_auc_score, accuracy_score\n",
    "\n",
    "print('-----END IMPORT MESSAGE------ \\n\\n\\n')\n",
    "\n",
    "# dataset = fetch_openml(\"mnist_784\")\n",
    "mnist = input_data.read_data_sets(\"MNIST_data/\")\n",
    "\n",
    "mnist_images = mnist.train.images\n",
    "mnist_labels = mnist.train.labels\n",
    "\n",
    "n_three, n_five = sum(mnist_labels==3), sum(mnist_labels==5)\n",
    "\n",
    "X_all = np.vstack([\n",
    "    mnist_images[mnist_labels==3,:],\n",
    "    mnist_images[mnist_labels==5,:]\n",
    "])\n",
    "\n",
    "y_all = np.array([1] * n_three + [0] * n_five)\n",
    "# make it more sparse\n",
    "X_all = X_all * (np.random.uniform(0, 1, X_all.shape) > 0.8)\n",
    "\n",
    "\n",
    "print('Dataset shape: {}'.format(X_all.shape))\n",
    "print('Non-zeros rate: {:.05f}'.format(np.mean(X_all != 0)))\n",
    "print('Classes balance: {:.03f} / {:.03f}'.format(np.mean(y_all==0), np.mean(y_all==1)))\n",
    "\n",
    "X_tr, X_te, y_tr, y_te = train_test_split(X_all, y_all, random_state=42, test_size=0.3)"
   ]
  },
  {
   "cell_type": "markdown",
   "metadata": {},
   "source": [
    "# dense"
   ]
  },
  {
   "cell_type": "code",
   "execution_count": 8,
   "metadata": {
    "ExecuteTime": {
     "end_time": "2021-01-04T16:53:59.936814Z",
     "start_time": "2021-01-04T16:53:51.373789Z"
    }
   },
   "outputs": [
    {
     "name": "stderr",
     "output_type": "stream",
     "text": [
      "100%|██████████| 50/50 [00:02<00:00, 22.99epoch/s]\n",
      "/Users/YuLong/miniconda3/envs/py_37_ds/lib/python3.7/site-packages/numpy/core/_asarray.py:136: VisibleDeprecationWarning: Creating an ndarray from ragged nested sequences (which is a list-or-tuple of lists-or-tuples-or ndarrays with different lengths or shapes) is deprecated. If you meant to do this, you must specify 'dtype=object' when creating the ndarray\n",
      "  return array(a, dtype, copy=False, order=order, subok=True)\n"
     ]
    },
    {
     "name": "stdout",
     "output_type": "stream",
     "text": [
      "[order=2] accuracy: 0.8760978670012547\n"
     ]
    },
    {
     "name": "stderr",
     "output_type": "stream",
     "text": [
      "100%|██████████| 50/50 [00:04<00:00, 10.02epoch/s]\n"
     ]
    },
    {
     "name": "stdout",
     "output_type": "stream",
     "text": [
      "[order=3] accuracy: 0.9099749058971142\n"
     ]
    }
   ],
   "source": [
    "from tffm import TFFMClassifier\n",
    "\n",
    "for order in [2, 3]:\n",
    "    model = TFFMClassifier(\n",
    "        order=order, \n",
    "        rank=10, \n",
    "        optimizer=tf.train.AdamOptimizer(learning_rate=0.001), \n",
    "        n_epochs=50, \n",
    "        batch_size=1024,\n",
    "        init_std=0.001,\n",
    "        reg=0.01,\n",
    "        input_type='dense',\n",
    "        seed=42\n",
    "    )\n",
    "    model.fit(X_tr, y_tr, show_progress=True)\n",
    "    predictions = model.predict(X_te)\n",
    "    print('[order={}] accuracy: {}'.format(order, accuracy_score(y_te, predictions)))\n",
    "    # this will close tf.Session and free resources\n",
    "    model.destroy()  "
   ]
  },
  {
   "cell_type": "markdown",
   "metadata": {},
   "source": [
    "# sparse"
   ]
  },
  {
   "cell_type": "code",
   "execution_count": 9,
   "metadata": {
    "ExecuteTime": {
     "end_time": "2021-01-04T16:54:00.036727Z",
     "start_time": "2021-01-04T16:53:59.938910Z"
    }
   },
   "outputs": [],
   "source": [
    "import scipy.sparse as sp\n",
    "# only CSR format supported\n",
    "X_tr_sparse = sp.csr_matrix(X_tr)\n",
    "X_te_sparse = sp.csr_matrix(X_te)"
   ]
  },
  {
   "cell_type": "code",
   "execution_count": 10,
   "metadata": {
    "ExecuteTime": {
     "end_time": "2021-01-04T16:54:28.623693Z",
     "start_time": "2021-01-04T16:54:00.039570Z"
    }
   },
   "outputs": [
    {
     "name": "stderr",
     "output_type": "stream",
     "text": [
      "100%|██████████| 50/50 [00:09<00:00,  5.12epoch/s]\n",
      "/Users/YuLong/miniconda3/envs/py_37_ds/lib/python3.7/site-packages/numpy/core/_asarray.py:136: VisibleDeprecationWarning: Creating an ndarray from ragged nested sequences (which is a list-or-tuple of lists-or-tuples-or ndarrays with different lengths or shapes) is deprecated. If you meant to do this, you must specify 'dtype=object' when creating the ndarray\n",
      "  return array(a, dtype, copy=False, order=order, subok=True)\n"
     ]
    },
    {
     "name": "stdout",
     "output_type": "stream",
     "text": [
      "[order=2] accuracy: 0.8760978670012547\n"
     ]
    },
    {
     "name": "stderr",
     "output_type": "stream",
     "text": [
      "100%|██████████| 50/50 [00:17<00:00,  2.90epoch/s]\n"
     ]
    },
    {
     "name": "stdout",
     "output_type": "stream",
     "text": [
      "[order=3] accuracy: 0.9099749058971142\n"
     ]
    }
   ],
   "source": [
    "for order in [2, 3]:\n",
    "    model = TFFMClassifier(\n",
    "        order=order, \n",
    "        rank=10, \n",
    "        optimizer=tf.train.AdamOptimizer(learning_rate=0.001), \n",
    "        n_epochs=50, \n",
    "        batch_size=1024,\n",
    "        init_std=0.001,\n",
    "        reg=0.01,\n",
    "        input_type='sparse',\n",
    "        seed=42\n",
    "    )\n",
    "    model.fit(X_tr_sparse, y_tr, show_progress=True)\n",
    "    predictions = model.predict(X_te_sparse)\n",
    "    print('[order={}] accuracy: {}'.format(order, accuracy_score(y_te, predictions)))\n",
    "    model.destroy()"
   ]
  },
  {
   "cell_type": "markdown",
   "metadata": {},
   "source": [
    "# Why Sparse matrix is slower?\n",
    "\n",
    "* setting : \n",
    "\n",
    "```\n",
    "    model = TFFMClassifier(\n",
    "        order=order, \n",
    "        rank=10, \n",
    "        optimizer=tf.train.AdamOptimizer(learning_rate=0.001), \n",
    "        n_epochs=50, \n",
    "        batch_size=1024,\n",
    "        init_std=0.001,\n",
    "        reg=0.01,\n",
    "        seed=42\n",
    "    )\n",
    "```\n",
    "\n",
    "|type|speed(epoch/s)|\n",
    "|----|--------------|\n",
    "|dense - order 2|22.9|\n",
    "|sparse - order 2|5.12|\n",
    "|dense - order 3|10.0|\n",
    "|sparse - order 3|2.9|\n",
    "\n",
    "* related operation\n",
    "\n",
    "1. `matmul_wrapper`\n",
    "\n",
    "```python\n",
    "def matmul_wrapper(A, B, optype):\n",
    "    \"\"\"Wrapper for handling sparse and dense versions of `tf.matmul` operation.\n",
    "\n",
    "    Parameters\n",
    "    ----------\n",
    "    A : tf.Tensor\n",
    "    B : tf.Tensor\n",
    "    optype : str, {'dense', 'sparse'}\n",
    "\n",
    "    Returns\n",
    "    -------\n",
    "    tf.Tensor\n",
    "    \"\"\"\n",
    "    with tf.name_scope('matmul_wrapper') as scope:\n",
    "        if optype == 'dense':\n",
    "            return tf.matmul(A, B)\n",
    "        elif optype == 'sparse':\n",
    "            return tf.sparse_tensor_dense_matmul(A, B)\n",
    "        else:\n",
    "            raise NameError('Unknown input type in matmul_wrapper')\n",
    "\n",
    "```\n",
    "2. `pow_wrapper`\n",
    "\n",
    "```python\n",
    "def pow_wrapper(X, p, optype):\n",
    "    \"\"\"Wrapper for handling sparse and dense versions of `tf.pow` operation.\n",
    "\n",
    "    Parameters\n",
    "    ----------\n",
    "    X : tf.Tensor\n",
    "    p : int\n",
    "    optype : str, {'dense', 'sparse'}\n",
    "\n",
    "    Returns\n",
    "    -------\n",
    "    tf.Tensor\n",
    "    \"\"\"\n",
    "    with tf.name_scope('pow_wrapper') as scope:\n",
    "        if optype == 'dense':\n",
    "            return tf.pow(X, p)\n",
    "        elif optype == 'sparse':\n",
    "            return tf.SparseTensor(X.indices, tf.pow(X.values, p), X.dense_shape)\n",
    "        else:\n",
    "            raise NameError('Unknown input type in pow_wrapper')\n",
    "\n",
    "```\n",
    "3. `count_non_zero_wrapper`\n",
    "\n",
    "```python\n",
    "def count_nonzero_wrapper(X, optype):\n",
    "    \"\"\"Wrapper for handling sparse and dense versions of `tf.count_nonzero`.\n",
    "\n",
    "    Parameters\n",
    "    ----------\n",
    "    X : tf.Tensor (N, K)\n",
    "    optype : str, {'dense', 'sparse'}\n",
    "\n",
    "    Returns\n",
    "    -------\n",
    "    tf.Tensor (1,K)\n",
    "    \"\"\"\n",
    "    with tf.name_scope('count_nonzero_wrapper') as scope:\n",
    "        if optype == 'dense':\n",
    "            return tf.count_nonzero(X, axis=0, keep_dims=True)\n",
    "        elif optype == 'sparse':\n",
    "            indicator_X = tf.SparseTensor(X.indices, tf.ones_like(X.values), X.dense_shape)\n",
    "            return tf.sparse_reduce_sum(indicator_X, axis=0, keep_dims=True)\n",
    "        else:\n",
    "            raise NameError('Unknown input type in count_nonzero_wrapper')\n",
    "```\n",
    "\n",
    "初步診斷可能的Bottleneck\n",
    "\n",
    "1. `sparse_tensor_dense_matmul`\n",
    "2. `tf.SparseTensor(X.indices, tf.pow(X.values, p), X.dense_shape)`\n",
    "3. `tf.SparseTensor`\n",
    "4. `sparse_reduce_sum`\n",
    "\n",
    "\n",
    "reference\n",
    "\n",
    "keyword : tensorflow sparse matrix slow \n",
    "[how-to-perform-efficient-sparse-matrix-multiplication-by-using-tf-matmul](https://stackoverflow.com/questions/44859321/how-to-perform-efficient-sparse-matrix-multiplication-by-using-tf-matmul)\n",
    "\n",
    "[Tensorflow两个稀疏矩阵相乘](https://zhuanlan.zhihu.com/p/150920129)\n",
    "\n",
    "[tensorflow-why-passing-dense-matrix-is-noticeably-faster-than-sparse](https://stackoverflow.com/questions/47392441/tensorflow-why-passing-dense-matrix-is-noticeably-faster-than-sparse)"
   ]
  },
  {
   "cell_type": "code",
   "execution_count": null,
   "metadata": {},
   "outputs": [],
   "source": []
  }
 ],
 "metadata": {
  "kernelspec": {
   "display_name": "Python 3",
   "language": "python",
   "name": "python3"
  },
  "language_info": {
   "codemirror_mode": {
    "name": "ipython",
    "version": 3
   },
   "file_extension": ".py",
   "mimetype": "text/x-python",
   "name": "python",
   "nbconvert_exporter": "python",
   "pygments_lexer": "ipython3",
   "version": "3.7.6"
  },
  "toc": {
   "base_numbering": 1,
   "nav_menu": {},
   "number_sections": true,
   "sideBar": true,
   "skip_h1_title": false,
   "title_cell": "Table of Contents",
   "title_sidebar": "Contents",
   "toc_cell": false,
   "toc_position": {},
   "toc_section_display": true,
   "toc_window_display": false
  }
 },
 "nbformat": 4,
 "nbformat_minor": 4
}
