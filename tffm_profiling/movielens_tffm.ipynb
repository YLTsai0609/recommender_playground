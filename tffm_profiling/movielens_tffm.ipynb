{
 "cells": [
  {
   "cell_type": "code",
   "execution_count": 1,
   "metadata": {
    "ExecuteTime": {
     "end_time": "2021-01-22T15:01:18.034738Z",
     "start_time": "2021-01-22T15:01:14.686015Z"
    }
   },
   "outputs": [
    {
     "name": "stderr",
     "output_type": "stream",
     "text": [
      "/Users/YuLong/miniconda3/envs/py_37_ds/lib/python3.7/site-packages/tensorflow/python/framework/dtypes.py:516: FutureWarning: Passing (type, 1) or '1type' as a synonym of type is deprecated; in a future version of numpy, it will be understood as (type, (1,)) / '(1,)type'.\n",
      "  _np_qint8 = np.dtype([(\"qint8\", np.int8, 1)])\n",
      "/Users/YuLong/miniconda3/envs/py_37_ds/lib/python3.7/site-packages/tensorflow/python/framework/dtypes.py:517: FutureWarning: Passing (type, 1) or '1type' as a synonym of type is deprecated; in a future version of numpy, it will be understood as (type, (1,)) / '(1,)type'.\n",
      "  _np_quint8 = np.dtype([(\"quint8\", np.uint8, 1)])\n",
      "/Users/YuLong/miniconda3/envs/py_37_ds/lib/python3.7/site-packages/tensorflow/python/framework/dtypes.py:518: FutureWarning: Passing (type, 1) or '1type' as a synonym of type is deprecated; in a future version of numpy, it will be understood as (type, (1,)) / '(1,)type'.\n",
      "  _np_qint16 = np.dtype([(\"qint16\", np.int16, 1)])\n",
      "/Users/YuLong/miniconda3/envs/py_37_ds/lib/python3.7/site-packages/tensorflow/python/framework/dtypes.py:519: FutureWarning: Passing (type, 1) or '1type' as a synonym of type is deprecated; in a future version of numpy, it will be understood as (type, (1,)) / '(1,)type'.\n",
      "  _np_quint16 = np.dtype([(\"quint16\", np.uint16, 1)])\n",
      "/Users/YuLong/miniconda3/envs/py_37_ds/lib/python3.7/site-packages/tensorflow/python/framework/dtypes.py:520: FutureWarning: Passing (type, 1) or '1type' as a synonym of type is deprecated; in a future version of numpy, it will be understood as (type, (1,)) / '(1,)type'.\n",
      "  _np_qint32 = np.dtype([(\"qint32\", np.int32, 1)])\n",
      "/Users/YuLong/miniconda3/envs/py_37_ds/lib/python3.7/site-packages/tensorflow/python/framework/dtypes.py:525: FutureWarning: Passing (type, 1) or '1type' as a synonym of type is deprecated; in a future version of numpy, it will be understood as (type, (1,)) / '(1,)type'.\n",
      "  np_resource = np.dtype([(\"resource\", np.ubyte, 1)])\n",
      "/Users/YuLong/miniconda3/envs/py_37_ds/lib/python3.7/site-packages/tensorboard/compat/tensorflow_stub/dtypes.py:541: FutureWarning: Passing (type, 1) or '1type' as a synonym of type is deprecated; in a future version of numpy, it will be understood as (type, (1,)) / '(1,)type'.\n",
      "  _np_qint8 = np.dtype([(\"qint8\", np.int8, 1)])\n",
      "/Users/YuLong/miniconda3/envs/py_37_ds/lib/python3.7/site-packages/tensorboard/compat/tensorflow_stub/dtypes.py:542: FutureWarning: Passing (type, 1) or '1type' as a synonym of type is deprecated; in a future version of numpy, it will be understood as (type, (1,)) / '(1,)type'.\n",
      "  _np_quint8 = np.dtype([(\"quint8\", np.uint8, 1)])\n",
      "/Users/YuLong/miniconda3/envs/py_37_ds/lib/python3.7/site-packages/tensorboard/compat/tensorflow_stub/dtypes.py:543: FutureWarning: Passing (type, 1) or '1type' as a synonym of type is deprecated; in a future version of numpy, it will be understood as (type, (1,)) / '(1,)type'.\n",
      "  _np_qint16 = np.dtype([(\"qint16\", np.int16, 1)])\n",
      "/Users/YuLong/miniconda3/envs/py_37_ds/lib/python3.7/site-packages/tensorboard/compat/tensorflow_stub/dtypes.py:544: FutureWarning: Passing (type, 1) or '1type' as a synonym of type is deprecated; in a future version of numpy, it will be understood as (type, (1,)) / '(1,)type'.\n",
      "  _np_quint16 = np.dtype([(\"quint16\", np.uint16, 1)])\n",
      "/Users/YuLong/miniconda3/envs/py_37_ds/lib/python3.7/site-packages/tensorboard/compat/tensorflow_stub/dtypes.py:545: FutureWarning: Passing (type, 1) or '1type' as a synonym of type is deprecated; in a future version of numpy, it will be understood as (type, (1,)) / '(1,)type'.\n",
      "  _np_qint32 = np.dtype([(\"qint32\", np.int32, 1)])\n",
      "/Users/YuLong/miniconda3/envs/py_37_ds/lib/python3.7/site-packages/tensorboard/compat/tensorflow_stub/dtypes.py:550: FutureWarning: Passing (type, 1) or '1type' as a synonym of type is deprecated; in a future version of numpy, it will be understood as (type, (1,)) / '(1,)type'.\n",
      "  np_resource = np.dtype([(\"resource\", np.ubyte, 1)])\n"
     ]
    },
    {
     "data": {
      "text/plain": [
       "['ua.base', 'ua.test']"
      ]
     },
     "execution_count": 1,
     "metadata": {},
     "output_type": "execute_result"
    }
   ],
   "source": [
    "import numpy as np\n",
    "import pandas as pd\n",
    "import tensorflow as tf\n",
    "import time\n",
    "from tqdm import tqdm\n",
    "from sklearn.feature_extraction import DictVectorizer\n",
    "\n",
    "import os\n",
    "import sys\n",
    "sys.path.append(os.path.expanduser(os.environ['RECSYS_IM_HOME']))\n",
    "\n",
    "from data_loader import load_movielens\n",
    "from data_profiler import summary_x\n",
    "\n",
    "SEED = 42\n",
    "DATASET_PATH = '../dataset/ml-100k'\n",
    "os.listdir(DATASET_PATH)"
   ]
  },
  {
   "cell_type": "markdown",
   "metadata": {},
   "source": [
    "# Data"
   ]
  },
  {
   "cell_type": "code",
   "execution_count": 2,
   "metadata": {
    "ExecuteTime": {
     "end_time": "2021-01-22T15:01:18.467421Z",
     "start_time": "2021-01-22T15:01:18.037352Z"
    }
   },
   "outputs": [
    {
     "ename": "FileNotFoundError",
     "evalue": "[Errno 2] No such file or directory: 'dataset/ml-100k/ua.base'",
     "output_type": "error",
     "traceback": [
      "\u001b[0;31m---------------------------------------------------------------------------\u001b[0m",
      "\u001b[0;31mFileNotFoundError\u001b[0m                         Traceback (most recent call last)",
      "\u001b[0;32m<ipython-input-2-f1f3509b2562>\u001b[0m in \u001b[0;36m<module>\u001b[0;34m\u001b[0m\n\u001b[0;32m----> 1\u001b[0;31m \u001b[0mtrain_data\u001b[0m\u001b[0;34m,\u001b[0m \u001b[0my_train\u001b[0m\u001b[0;34m,\u001b[0m \u001b[0mtrain_users\u001b[0m\u001b[0;34m,\u001b[0m \u001b[0mtrain_items\u001b[0m \u001b[0;34m=\u001b[0m \u001b[0mload_movielens\u001b[0m\u001b[0;34m(\u001b[0m\u001b[0;34m\"ua.base\"\u001b[0m\u001b[0;34m)\u001b[0m\u001b[0;34m\u001b[0m\u001b[0;34m\u001b[0m\u001b[0m\n\u001b[0m\u001b[1;32m      2\u001b[0m \u001b[0mtest_data\u001b[0m\u001b[0;34m,\u001b[0m \u001b[0my_test\u001b[0m\u001b[0;34m,\u001b[0m \u001b[0mtest_users\u001b[0m\u001b[0;34m,\u001b[0m \u001b[0mtest_items\u001b[0m \u001b[0;34m=\u001b[0m \u001b[0mload_movielens\u001b[0m\u001b[0;34m(\u001b[0m\u001b[0;34m\"ua.test\"\u001b[0m\u001b[0;34m)\u001b[0m\u001b[0;34m\u001b[0m\u001b[0;34m\u001b[0m\u001b[0m\n\u001b[1;32m      3\u001b[0m \u001b[0mv\u001b[0m \u001b[0;34m=\u001b[0m \u001b[0mDictVectorizer\u001b[0m\u001b[0;34m(\u001b[0m\u001b[0;34m)\u001b[0m\u001b[0;34m\u001b[0m\u001b[0;34m\u001b[0m\u001b[0m\n\u001b[1;32m      4\u001b[0m \u001b[0;34m\u001b[0m\u001b[0m\n\u001b[1;32m      5\u001b[0m \u001b[0;31m# sparse matrix\u001b[0m\u001b[0;34m\u001b[0m\u001b[0;34m\u001b[0m\u001b[0;34m\u001b[0m\u001b[0m\n",
      "\u001b[0;32m~/Desktop/Working_Area/recsys_im/data_loader.py\u001b[0m in \u001b[0;36mload_movielens\u001b[0;34m(filename, path)\u001b[0m\n\u001b[1;32m      8\u001b[0m     \u001b[0musers\u001b[0m \u001b[0;34m=\u001b[0m \u001b[0mset\u001b[0m\u001b[0;34m(\u001b[0m\u001b[0;34m)\u001b[0m\u001b[0;34m\u001b[0m\u001b[0;34m\u001b[0m\u001b[0m\n\u001b[1;32m      9\u001b[0m     \u001b[0mitems\u001b[0m \u001b[0;34m=\u001b[0m \u001b[0mset\u001b[0m\u001b[0;34m(\u001b[0m\u001b[0;34m)\u001b[0m\u001b[0;34m\u001b[0m\u001b[0;34m\u001b[0m\u001b[0m\n\u001b[0;32m---> 10\u001b[0;31m     \u001b[0;32mwith\u001b[0m \u001b[0mopen\u001b[0m\u001b[0;34m(\u001b[0m\u001b[0mpath\u001b[0m \u001b[0;34m+\u001b[0m \u001b[0mfilename\u001b[0m\u001b[0;34m)\u001b[0m \u001b[0;32mas\u001b[0m \u001b[0mf\u001b[0m\u001b[0;34m:\u001b[0m\u001b[0;34m\u001b[0m\u001b[0;34m\u001b[0m\u001b[0m\n\u001b[0m\u001b[1;32m     11\u001b[0m         \u001b[0;32mfor\u001b[0m \u001b[0mline\u001b[0m \u001b[0;32min\u001b[0m \u001b[0mf\u001b[0m\u001b[0;34m:\u001b[0m\u001b[0;34m\u001b[0m\u001b[0;34m\u001b[0m\u001b[0m\n\u001b[1;32m     12\u001b[0m             \u001b[0;34m(\u001b[0m\u001b[0muser\u001b[0m\u001b[0;34m,\u001b[0m \u001b[0mmovieid\u001b[0m\u001b[0;34m,\u001b[0m \u001b[0mrating\u001b[0m\u001b[0;34m,\u001b[0m \u001b[0mts\u001b[0m\u001b[0;34m)\u001b[0m \u001b[0;34m=\u001b[0m \u001b[0mline\u001b[0m\u001b[0;34m.\u001b[0m\u001b[0msplit\u001b[0m\u001b[0;34m(\u001b[0m\u001b[0;34m'\\t'\u001b[0m\u001b[0;34m)\u001b[0m\u001b[0;34m\u001b[0m\u001b[0;34m\u001b[0m\u001b[0m\n",
      "\u001b[0;31mFileNotFoundError\u001b[0m: [Errno 2] No such file or directory: 'dataset/ml-100k/ua.base'"
     ]
    }
   ],
   "source": [
    "train_data, y_train, train_users, train_items = load_movielens(\"ua.base\")\n",
    "test_data, y_test, test_users, test_items = load_movielens(\"ua.test\")\n",
    "v = DictVectorizer()\n",
    "\n",
    "# sparse matrix\n",
    "X_train = v.fit_transform(train_data)\n",
    "X_test = v.transform(test_data)\n",
    "\n",
    "# profling\n",
    "summary_x(X_train)\n",
    "\n",
    "display('Rating distribution : ',\n",
    "    pd.Series(y_train).value_counts()\n",
    ")\n",
    "\n",
    "# y_train.shape += (1,)"
   ]
  },
  {
   "cell_type": "markdown",
   "metadata": {
    "ExecuteTime": {
     "end_time": "2021-01-07T02:36:38.336877Z",
     "start_time": "2021-01-07T02:36:37.977036Z"
    }
   },
   "source": [
    "# Benchmark\n",
    "\n",
    "1. Note that SVR and RandomForest is very very slow\n",
    "2. if you wanna use `mean_absolute_percentage_error`, you need to install nightly-build version scikit-learn.\n",
    "   I use `1.0.dev0`"
   ]
  },
  {
   "cell_type": "code",
   "execution_count": null,
   "metadata": {
    "ExecuteTime": {
     "end_time": "2021-01-22T15:01:18.469777Z",
     "start_time": "2021-01-22T15:01:14.688Z"
    }
   },
   "outputs": [],
   "source": [
    "from sklearn.linear_model import LinearRegression\n",
    "# from sklearn.kernel_ridge import KernelRidge\n",
    "from sklearn.svm import SVR\n",
    "from sklearn.ensemble import RandomForestRegressor\n",
    "from lightgbm import LGBMRegressor\n",
    "from sklearn.metrics import mean_absolute_percentage_error\n",
    "from sklearn.metrics import mean_squared_error\n",
    "from time import time"
   ]
  },
  {
   "cell_type": "code",
   "execution_count": null,
   "metadata": {
    "ExecuteTime": {
     "end_time": "2021-01-22T15:01:18.471533Z",
     "start_time": "2021-01-22T15:01:14.689Z"
    }
   },
   "outputs": [],
   "source": [
    "# MAPE example\n",
    "# check the mape section from \n",
    "# https://scikit-learn.org/dev/modules/model_evaluation.html#mean-absolute-percentage-error\n",
    "# mean_absolute_percentage_error([1, 10], [0.9, 15])"
   ]
  },
  {
   "cell_type": "code",
   "execution_count": null,
   "metadata": {
    "ExecuteTime": {
     "end_time": "2021-01-22T15:01:18.472595Z",
     "start_time": "2021-01-22T15:01:14.693Z"
    }
   },
   "outputs": [],
   "source": [
    "benchmark_dict = {'model' : [],\n",
    "                  'mse' : [],\n",
    "                  'mape': [],\n",
    "                  'training time(s)' : [],\n",
    "                  'inference time(ms)' : []}\n",
    "N_INFERENCE = 50\n",
    "for model in [\n",
    "                LinearRegression(n_jobs=-1),\n",
    "#                 KernelRidge(kernel='poly',degree=2), # too slow\n",
    "                SVR(kernel='poly', degree=2, max_iter= 10000),\n",
    "#                 RandomForestRegressor(n_jobs=-1, n_estimators=200, random_state=SEED), # too slow\n",
    "                LGBMRegressor(n_estimators=200, random_state=SEED, n_jobs=-1)\n",
    "            ]:\n",
    "    # training parts\n",
    "    train_start = time()\n",
    "    model.fit(X_train[:, :], y_train[:])\n",
    "    # profiling\n",
    "    training_time = time() - train_start\n",
    "    model_name = type(model).__name__\n",
    "    predictions = model.predict(X_test)\n",
    "    mse = mean_squared_error(y_test, predictions)\n",
    "    mape = mean_absolute_percentage_error(y_test, predictions)\n",
    "    # log the performance\n",
    "    benchmark_dict['model'].append(model_name)\n",
    "    benchmark_dict['mse'].append(mse)\n",
    "    benchmark_dict['mape'].append(mape)\n",
    "    benchmark_dict['training time(s)'].append(training_time)\n",
    "    \n",
    "\n",
    "    # inference part\n",
    "    inference_time_list = []\n",
    "    for _ in range(N_INFERENCE):\n",
    "        inference_start = time()\n",
    "        model.predict(X_test[0, :].reshape(1, -1))\n",
    "        inference_time = (time() - inference_start) * 1000\n",
    "        inference_time_list.append(inference_time_list)\n",
    "    benchmark_dict['inference time(ms)'].append(np.mean(inference_time))\n",
    "    \n",
    "    print('model: {}'.format(model.__str__()))\n",
    "    print('mse: {}'.format(mse))\n",
    "    print('mape: {}'.format(mape))\n",
    "    print()"
   ]
  },
  {
   "cell_type": "code",
   "execution_count": null,
   "metadata": {
    "ExecuteTime": {
     "end_time": "2021-01-22T15:01:18.473818Z",
     "start_time": "2021-01-22T15:01:14.694Z"
    }
   },
   "outputs": [],
   "source": [
    "from tffm.tffm import TFFMRegressor\n",
    "\n",
    "for order in [2, 3]:\n",
    "    model = TFFMRegressor(\n",
    "        order=order, \n",
    "        rank=100, \n",
    "        optimizer=tf.train.AdamOptimizer(learning_rate=0.001), \n",
    "        n_epochs=50, \n",
    "        batch_size=1024,\n",
    "        init_std=0.001,\n",
    "        reg=0.01,\n",
    "        input_type='sparse',\n",
    "        seed=SEED\n",
    "    )\n",
    "    # training part\n",
    "    # profiling\n",
    "    start = time()\n",
    "    # shape X : (n_data, n_features) y : (n_data)\n",
    "    model.fit(X_train[:, :], y_train[:], show_progress=True)\n",
    "    training_time = time() - start\n",
    "    predictions = model.predict(X_test)\n",
    "    mse = mean_squared_error(y_test, predictions)\n",
    "    mape = mean_absolute_percentage_error(y_test, predictions)\n",
    "    model_name = type(model).__name__\n",
    "    # log the performance\n",
    "    benchmark_dict['model'].append(f'{model_name}_order_{order}_sparse')\n",
    "    benchmark_dict['mse'].append(mse)\n",
    "    benchmark_dict['mape'].append(mape)\n",
    "    benchmark_dict['training time(s)'].append(training_time)\n",
    "    # inference part\n",
    "    inference_time_list = []\n",
    "    for _ in range(N_INFERENCE):\n",
    "        inference_start = time()\n",
    "        model.predict(X_test[0, :])\n",
    "        inference_time = (time() - inference_start) * 1000\n",
    "        inference_time_list.append(inference_time_list)\n",
    "    benchmark_dict['inference time(ms)'].append(np.mean(inference_time))\n",
    "    \n",
    "    print('[order={}] mse: {}'.format(order, mse))\n",
    "    print('[order={}] mape: {}'.format(order, mape))\n",
    "    # this will close tf.Session and free resources\n",
    "    model.destroy()  "
   ]
  },
  {
   "cell_type": "code",
   "execution_count": null,
   "metadata": {
    "ExecuteTime": {
     "end_time": "2021-01-22T15:01:18.474644Z",
     "start_time": "2021-01-22T15:01:14.696Z"
    }
   },
   "outputs": [],
   "source": [
    "pd.DataFrame(benchmark_dict)"
   ]
  }
 ],
 "metadata": {
  "kernelspec": {
   "display_name": "Python 3",
   "language": "python",
   "name": "python3"
  },
  "language_info": {
   "codemirror_mode": {
    "name": "ipython",
    "version": 3
   },
   "file_extension": ".py",
   "mimetype": "text/x-python",
   "name": "python",
   "nbconvert_exporter": "python",
   "pygments_lexer": "ipython3",
   "version": "3.7.6"
  },
  "toc": {
   "base_numbering": 1,
   "nav_menu": {},
   "number_sections": true,
   "sideBar": true,
   "skip_h1_title": false,
   "title_cell": "Table of Contents",
   "title_sidebar": "Contents",
   "toc_cell": false,
   "toc_position": {},
   "toc_section_display": true,
   "toc_window_display": false
  }
 },
 "nbformat": 4,
 "nbformat_minor": 4
}
